{
 "cells": [
  {
   "cell_type": "markdown",
   "metadata": {},
   "source": [
    "E1. Analiza dynamiki wybranej giełdy za pomocą  wybranej techniki teorii grafów \n",
    "\n",
    "**Research question: What are correlations between constituents?**\n",
    "\n",
    "Celem tego ćwiczenia jest zbadanie dynamiki wybranej giełdy w okresie narastania wybranej bańki giełdowej oraz  jej pęknięcia, z wykorzystaniem teorii grafów. Realizacja ćwiczenia składa się  z następujących etapów:  \n",
    "\n",
    "1.  wybór  giełdy  i  ściągnięcie  odpowiednich  empirycznych  danych  giełdowych  z  wybranej  strony internetowej lub uzyskanie ich bezpośrednio z danej giełdy,  \n",
    "    1. Download FTSE100 historical data from yahoo, transform it into a dataframe and save to a file.\n",
    "    2. Download FTSE250 historical data from yahoo, transform it into a dataframe and save to a file.\n",
    "    3. Plot number of constituents(time) for FTSE100\n",
    "    4. Plot number of constituents(time) for FTSE250\n",
    "2.  dobór odpowiedniego modelu sieci oraz algorytmu generującego,  \n",
    "3.  dobór właściwych przedziałów średniowania,  \n",
    "4.  dyskusja  uzyskanych  wyników  a  w tym  zwłaszcza  ewentualnych  strukturalnych  topologicznych) przemian fazowych prowadzących do analizy kryzysu i krachu. \n",
    "\n",
    "### Questions\n",
    "    Should I use log transformation?\n",
    "    How should I calculate <Si> How many days average. (See exercise notes 1.2)\n",
    "    How to calculate distances between companies? How to interpret them?\n",
    "\n",
    "[Exercise materials](https://drive.google.com/open?id=0ByG3ASYoU228cnFHaEZDR0tQcWlaZlNGa2xoUEhNSUJfMDg4)\n",
    "\n",
    "### Notes(Exercise materials)\n",
    "    1.1 Diferences a couple orders of magnitude\n",
    "    1.2 <Si> - average over for example 50 days.\n",
    "\n"
   ]
  },
  {
   "cell_type": "code",
   "execution_count": 1,
   "metadata": {
    "collapsed": false
   },
   "outputs": [
    {
     "name": "stderr",
     "output_type": "stream",
     "text": [
      "/home/pawel/anaconda3/lib/python3.5/site-packages/pandas/io/data.py:33: FutureWarning: \n",
      "The pandas.io.data module is moved to a separate package (pandas-datareader) and will be removed from pandas in a future version.\n",
      "After installing the pandas-datareader package (https://github.com/pydata/pandas-datareader), you can change the import ``from pandas.io import data, wb`` to ``from pandas_datareader import data, wb``.\n",
      "  FutureWarning)\n"
     ]
    }
   ],
   "source": [
    "import urllib,time,datetime\n",
    "import pandas.io.data as web\n",
    "import pandas as pd\n",
    "import numpy as np\n",
    "import pylab as py\n",
    "\n",
    "%matplotlib inline"
   ]
  },
  {
   "cell_type": "markdown",
   "metadata": {
    "collapsed": true
   },
   "source": [
    "1. \n",
    "    A. Below I download FTSE100 historical data from yahoo and save it to data_FTSE100.txt"
   ]
  },
  {
   "cell_type": "code",
   "execution_count": 2,
   "metadata": {
    "collapsed": false
   },
   "outputs": [],
   "source": [
    "start = datetime.datetime(1985, 1, 1)\n",
    "end = datetime.datetime(2015, 4, 29)"
   ]
  },
  {
   "cell_type": "code",
   "execution_count": 3,
   "metadata": {
    "collapsed": false
   },
   "outputs": [],
   "source": [
    "with open('./constituents_FTSE100') as f:\n",
    "    lines = f.readlines()"
   ]
  },
  {
   "cell_type": "code",
   "execution_count": 9,
   "metadata": {
    "collapsed": false
   },
   "outputs": [
    {
     "name": "stdout",
     "output_type": "stream",
     "text": [
      "             AAL.L    ABF.L\n",
      "Date                       \n",
      "1988-07-01     NaN   258.72\n",
      "1988-07-04     NaN   253.44\n",
      "1988-07-05     NaN   254.32\n",
      "1988-07-06     NaN   255.20\n",
      "1988-07-07     NaN   253.44\n",
      "1988-07-08     NaN   258.72\n",
      "1988-07-11     NaN   258.72\n",
      "1988-07-12     NaN   256.96\n",
      "1988-07-13     NaN   256.96\n",
      "1988-07-14     NaN   257.84\n",
      "1988-07-15     NaN   256.96\n",
      "1988-07-18     NaN   256.96\n",
      "1988-07-19     NaN   256.96\n",
      "1988-07-20     NaN   264.00\n",
      "1988-07-21     NaN   263.12\n",
      "1988-07-22     NaN   263.12\n",
      "1988-07-25     NaN   263.12\n",
      "1988-07-26     NaN   263.12\n",
      "1988-07-27     NaN   262.24\n",
      "1988-07-28     NaN   272.80\n",
      "1988-07-29     NaN   275.44\n",
      "1988-08-01     NaN   278.08\n",
      "1988-08-02     NaN   278.08\n",
      "1988-08-03     NaN   280.72\n",
      "1988-08-04     NaN   281.60\n",
      "1988-08-05     NaN   283.36\n",
      "1988-08-08     NaN   282.48\n",
      "1988-08-09     NaN   282.48\n",
      "1988-08-10     NaN   280.72\n",
      "1988-08-11     NaN   277.20\n",
      "...            ...      ...\n",
      "2015-03-19  1055.0  3077.00\n",
      "2015-03-20  1052.5  3058.00\n",
      "2015-03-23  1107.5  3046.00\n",
      "2015-03-24  1106.0  2998.00\n",
      "2015-03-25  1090.0  2934.00\n",
      "2015-03-26  1101.5  2891.00\n",
      "2015-03-27  1073.0  2851.00\n",
      "2015-03-30  1054.0  2876.00\n",
      "2015-03-31  1060.5  2854.00\n",
      "2015-04-01  1010.0  2813.00\n",
      "2015-04-02  1011.5  2820.00\n",
      "2015-04-03   997.0  2866.00\n",
      "2015-04-06   997.0  2866.00\n",
      "2015-04-07  1018.5  2869.00\n",
      "2015-04-08  1028.5  2950.00\n",
      "2015-04-09  1000.0  2976.00\n",
      "2015-04-10  1028.0  2999.00\n",
      "2015-04-13  1009.0  3008.00\n",
      "2015-04-14   993.8  2969.00\n",
      "2015-04-15  1038.0  2966.00\n",
      "2015-04-16  1058.0  2978.00\n",
      "2015-04-17  1035.5  2967.00\n",
      "2015-04-20  1014.5  2920.00\n",
      "2015-04-21  1030.0  2735.00\n",
      "2015-04-22  1026.5  2735.00\n",
      "2015-04-23  1010.0  2755.00\n",
      "2015-04-24  1066.5  2767.00\n",
      "2015-04-27  1117.0  2785.00\n",
      "2015-04-28  1098.0  2807.00\n",
      "2015-04-29  1120.0  2798.00\n",
      "\n",
      "[6983 rows x 2 columns]\n"
     ]
    }
   ],
   "source": [
    "#fig = py.figure()\n",
    "f=web.DataReader(lines[0].strip(), 'yahoo', start, end)\n",
    "\n",
    "lines = lines[0:5]\n",
    "y=[]\n",
    "\n",
    "for line in lines:\n",
    "    if len(line.strip())>1:\n",
    "        try:\n",
    "            f=web.DataReader(line.strip(), 'yahoo', start, end)\n",
    "        except:\n",
    "            raise\n",
    "        else:\n",
    "            y.append(f)            \n",
    "            #print( f.index )\n",
    "#print ( y[0]['Open'] )\n",
    "#print ( y[1] )\n",
    "#print ( \"And so on ...\" )\n",
    "\n",
    "# = y[0]['Open'] \n",
    "\n",
    "Stock_values_dataframe = pd.concat( [ y[0]['Open'] , y[1]['Open'] ], axis=1 )\n",
    "\n",
    "Stock_values_dataframe.columns = [ lines[0].replace( \"\\n\", \"\" ), lines[1].replace( \"\\n\", \"\" ) ]\n",
    "\n",
    "print( Stock_values_dataframe )\n",
    "\n",
    "\n",
    "\n",
    "#file = open( \"./data_FTSE100.txt\", \"w\" )\n",
    "#for i in y:\n",
    "#    file.write( str( i ) ) \n",
    "#file.close()"
   ]
  },
  {
   "cell_type": "code",
   "execution_count": 14,
   "metadata": {
    "collapsed": false
   },
   "outputs": [
    {
     "data": {
      "image/png": "[encoded data removed]",
      "text/plain": [
       "<matplotlib.figure.Figure at 0x7f1249149780>"
      ]
     },
     "metadata": {},
     "output_type": "display_data"
    },
    {
     "data": {
      "text/plain": [
       "<matplotlib.figure.Figure at 0x7f124916e898>"
      ]
     },
     "metadata": {},
     "output_type": "display_data"
    }
   ],
   "source": [
    "py.xlabel('Date')\n",
    "py.ylabel('liczba spolek')\n",
    "py.title('FTSE100')\n",
    "\n",
    "x=[]\n",
    "\n",
    "for i in y:\n",
    "    j=0\n",
    "    for k in y:\n",
    "        if k<=i:\n",
    "            j+=1\n",
    "    x.append(j)\n",
    "\n",
    "py.plot(y,x, 'ro')\n",
    "py.show()\n",
    "#fig.savefig('/home/pawel/Documents/magisterka/Financial_historical_data/constituents100.jpg')\n",
    "py.clf()"
   ]
  },
  {
   "cell_type": "markdown",
   "metadata": {},
   "source": [
    "1. \n",
    "    B. Below I download FTSE250 historical data from yahoo"
   ]
  },
  {
   "cell_type": "code",
   "execution_count": 17,
   "metadata": {
    "collapsed": false
   },
   "outputs": [
    {
     "ename": "OSError",
     "evalue": "after 3 tries, Yahoo! did not return a 200 for url 'http://ichart.finance.yahoo.com/table.csv?s=BNKR.L&a=0&b=1&c=1985&d=3&e=29&f=2015&g=d&ignore=.csv'",
     "output_type": "error",
     "traceback": [
      "\u001b[1;31m---------------------------------------------------------------------------\u001b[0m",
      "\u001b[1;31mOSError\u001b[0m                                   Traceback (most recent call last)",
      "\u001b[1;32m<ipython-input-17-db515efdd461>\u001b[0m in \u001b[0;36m<module>\u001b[1;34m()\u001b[0m\n\u001b[0;32m      5\u001b[0m     \u001b[1;32mif\u001b[0m \u001b[0mlen\u001b[0m\u001b[1;33m(\u001b[0m\u001b[0mline\u001b[0m\u001b[1;33m.\u001b[0m\u001b[0mstrip\u001b[0m\u001b[1;33m(\u001b[0m\u001b[1;33m)\u001b[0m\u001b[1;33m)\u001b[0m\u001b[1;33m>\u001b[0m\u001b[1;36m1\u001b[0m\u001b[1;33m:\u001b[0m\u001b[1;33m\u001b[0m\u001b[0m\n\u001b[0;32m      6\u001b[0m         \u001b[1;32mtry\u001b[0m\u001b[1;33m:\u001b[0m\u001b[1;33m\u001b[0m\u001b[0m\n\u001b[1;32m----> 7\u001b[1;33m             \u001b[0mf\u001b[0m\u001b[1;33m=\u001b[0m\u001b[0mweb\u001b[0m\u001b[1;33m.\u001b[0m\u001b[0mDataReader\u001b[0m\u001b[1;33m(\u001b[0m\u001b[0mline\u001b[0m\u001b[1;33m.\u001b[0m\u001b[0mstrip\u001b[0m\u001b[1;33m(\u001b[0m\u001b[1;33m)\u001b[0m\u001b[1;33m,\u001b[0m \u001b[1;34m'yahoo'\u001b[0m\u001b[1;33m,\u001b[0m \u001b[0mstart\u001b[0m\u001b[1;33m,\u001b[0m \u001b[0mend\u001b[0m\u001b[1;33m)\u001b[0m\u001b[1;33m\u001b[0m\u001b[0m\n\u001b[0m\u001b[0;32m      8\u001b[0m         \u001b[1;32mexcept\u001b[0m\u001b[1;33m:\u001b[0m\u001b[1;33m\u001b[0m\u001b[0m\n\u001b[0;32m      9\u001b[0m             \u001b[1;32mraise\u001b[0m\u001b[1;33m\u001b[0m\u001b[0m\n",
      "\u001b[1;32m/home/pawel/anaconda3/lib/python3.5/site-packages/pandas/io/data.py\u001b[0m in \u001b[0;36mDataReader\u001b[1;34m(name, data_source, start, end, retry_count, pause)\u001b[0m\n\u001b[0;32m     89\u001b[0m         return get_data_yahoo(symbols=name, start=start, end=end,\n\u001b[0;32m     90\u001b[0m                               \u001b[0madjust_price\u001b[0m\u001b[1;33m=\u001b[0m\u001b[1;32mFalse\u001b[0m\u001b[1;33m,\u001b[0m \u001b[0mchunksize\u001b[0m\u001b[1;33m=\u001b[0m\u001b[1;36m25\u001b[0m\u001b[1;33m,\u001b[0m\u001b[1;33m\u001b[0m\u001b[0m\n\u001b[1;32m---> 91\u001b[1;33m                               retry_count=retry_count, pause=pause)\n\u001b[0m\u001b[0;32m     92\u001b[0m     \u001b[1;32melif\u001b[0m \u001b[0mdata_source\u001b[0m \u001b[1;33m==\u001b[0m \u001b[1;34m\"google\"\u001b[0m\u001b[1;33m:\u001b[0m\u001b[1;33m\u001b[0m\u001b[0m\n\u001b[0;32m     93\u001b[0m         return get_data_google(symbols=name, start=start, end=end,\n",
      "\u001b[1;32m/home/pawel/anaconda3/lib/python3.5/site-packages/pandas/io/data.py\u001b[0m in \u001b[0;36mget_data_yahoo\u001b[1;34m(symbols, start, end, retry_count, pause, adjust_price, ret_index, chunksize, interval)\u001b[0m\n\u001b[0;32m    436\u001b[0m         \u001b[1;32mraise\u001b[0m \u001b[0mValueError\u001b[0m\u001b[1;33m(\u001b[0m\u001b[1;34m\"Invalid interval: valid values are 'd', 'w', 'm' and 'v'\"\u001b[0m\u001b[1;33m)\u001b[0m\u001b[1;33m\u001b[0m\u001b[0m\n\u001b[0;32m    437\u001b[0m     return _get_data_from(symbols, start, end, interval, retry_count, pause,\n\u001b[1;32m--> 438\u001b[1;33m                           adjust_price, ret_index, chunksize, 'yahoo')\n\u001b[0m\u001b[0;32m    439\u001b[0m \u001b[1;33m\u001b[0m\u001b[0m\n\u001b[0;32m    440\u001b[0m \u001b[1;33m\u001b[0m\u001b[0m\n",
      "\u001b[1;32m/home/pawel/anaconda3/lib/python3.5/site-packages/pandas/io/data.py\u001b[0m in \u001b[0;36m_get_data_from\u001b[1;34m(symbols, start, end, interval, retry_count, pause, adjust_price, ret_index, chunksize, source)\u001b[0m\n\u001b[0;32m    377\u001b[0m     \u001b[1;31m# If a single symbol, (e.g., 'GOOG')\u001b[0m\u001b[1;33m\u001b[0m\u001b[1;33m\u001b[0m\u001b[0m\n\u001b[0;32m    378\u001b[0m     \u001b[1;32mif\u001b[0m \u001b[0misinstance\u001b[0m\u001b[1;33m(\u001b[0m\u001b[0msymbols\u001b[0m\u001b[1;33m,\u001b[0m \u001b[1;33m(\u001b[0m\u001b[0mcompat\u001b[0m\u001b[1;33m.\u001b[0m\u001b[0mstring_types\u001b[0m\u001b[1;33m,\u001b[0m \u001b[0mint\u001b[0m\u001b[1;33m)\u001b[0m\u001b[1;33m)\u001b[0m\u001b[1;33m:\u001b[0m\u001b[1;33m\u001b[0m\u001b[0m\n\u001b[1;32m--> 379\u001b[1;33m         \u001b[0mhist_data\u001b[0m \u001b[1;33m=\u001b[0m \u001b[0msrc_fn\u001b[0m\u001b[1;33m(\u001b[0m\u001b[0msymbols\u001b[0m\u001b[1;33m,\u001b[0m \u001b[0mstart\u001b[0m\u001b[1;33m,\u001b[0m \u001b[0mend\u001b[0m\u001b[1;33m,\u001b[0m \u001b[0minterval\u001b[0m\u001b[1;33m,\u001b[0m \u001b[0mretry_count\u001b[0m\u001b[1;33m,\u001b[0m \u001b[0mpause\u001b[0m\u001b[1;33m)\u001b[0m\u001b[1;33m\u001b[0m\u001b[0m\n\u001b[0m\u001b[0;32m    380\u001b[0m     \u001b[1;31m# Or multiple symbols, (e.g., ['GOOG', 'AAPL', 'MSFT'])\u001b[0m\u001b[1;33m\u001b[0m\u001b[1;33m\u001b[0m\u001b[0m\n\u001b[0;32m    381\u001b[0m     \u001b[1;32melif\u001b[0m \u001b[0misinstance\u001b[0m\u001b[1;33m(\u001b[0m\u001b[0msymbols\u001b[0m\u001b[1;33m,\u001b[0m \u001b[0mDataFrame\u001b[0m\u001b[1;33m)\u001b[0m\u001b[1;33m:\u001b[0m\u001b[1;33m\u001b[0m\u001b[0m\n",
      "\u001b[1;32m/home/pawel/anaconda3/lib/python3.5/site-packages/pandas/io/data.py\u001b[0m in \u001b[0;36m_get_hist_yahoo\u001b[1;34m(sym, start, end, interval, retry_count, pause)\u001b[0m\n\u001b[0;32m    220\u001b[0m            \u001b[1;34m'&g=%s'\u001b[0m \u001b[1;33m%\u001b[0m \u001b[0minterval\u001b[0m \u001b[1;33m+\u001b[0m\u001b[1;33m\u001b[0m\u001b[0m\n\u001b[0;32m    221\u001b[0m            '&ignore=.csv')\n\u001b[1;32m--> 222\u001b[1;33m     \u001b[1;32mreturn\u001b[0m \u001b[0m_retry_read_url\u001b[0m\u001b[1;33m(\u001b[0m\u001b[0murl\u001b[0m\u001b[1;33m,\u001b[0m \u001b[0mretry_count\u001b[0m\u001b[1;33m,\u001b[0m \u001b[0mpause\u001b[0m\u001b[1;33m,\u001b[0m \u001b[1;34m'Yahoo!'\u001b[0m\u001b[1;33m)\u001b[0m\u001b[1;33m\u001b[0m\u001b[0m\n\u001b[0m\u001b[0;32m    223\u001b[0m \u001b[1;33m\u001b[0m\u001b[0m\n\u001b[0;32m    224\u001b[0m \u001b[1;33m\u001b[0m\u001b[0m\n",
      "\u001b[1;32m/home/pawel/anaconda3/lib/python3.5/site-packages/pandas/io/data.py\u001b[0m in \u001b[0;36m_retry_read_url\u001b[1;34m(url, retry_count, pause, name)\u001b[0m\n\u001b[0;32m    197\u001b[0m \u001b[1;33m\u001b[0m\u001b[0m\n\u001b[0;32m    198\u001b[0m     raise IOError(\"after %d tries, %s did not \"\n\u001b[1;32m--> 199\u001b[1;33m                   \"return a 200 for url %r\" % (retry_count, name, url))\n\u001b[0m\u001b[0;32m    200\u001b[0m \u001b[1;33m\u001b[0m\u001b[0m\n\u001b[0;32m    201\u001b[0m \u001b[1;33m\u001b[0m\u001b[0m\n",
      "\u001b[1;31mOSError\u001b[0m: after 3 tries, Yahoo! did not return a 200 for url 'http://ichart.finance.yahoo.com/table.csv?s=BNKR.L&a=0&b=1&c=1985&d=3&e=29&f=2015&g=d&ignore=.csv'"
     ]
    }
   ],
   "source": [
    "with open('./constituents_FTSE250') as f:\n",
    "    lines = f.readlines()\n",
    "    \n",
    "for line in lines:\n",
    "    if len(line.strip())>1:\n",
    "        try:\n",
    "            f=web.DataReader(line.strip(), 'yahoo', start, end)\n",
    "        except:\n",
    "            raise\n",
    "        else:\n",
    "            y.append(f.index.date[0])            \n",
    "            #print f.index.date[0]"
   ]
  },
  {
   "cell_type": "code",
   "execution_count": null,
   "metadata": {
    "collapsed": true
   },
   "outputs": [],
   "source": [
    "py.xlabel('Data wejscia')\n",
    "py.ylabel('liczba spolek')\n",
    "py.title('FTSE250')\n",
    "\n",
    "\n",
    "for i in y:\n",
    "    j=0\n",
    "    for k in y:\n",
    "        if k<=i:\n",
    "            j+=1\n",
    "    x.append(j)\n",
    "\n",
    "\n",
    "py.plot(y,x, 'ro')\n",
    "py.show()\n",
    "#fig.savefig('/home/pawel/Documents/magisterka/Financial_historical_data/constituents250.jpg')\n",
    "py.clf()"
   ]
  },
  {
   "cell_type": "code",
   "execution_count": null,
   "metadata": {
    "collapsed": true
   },
   "outputs": [],
   "source": []
  }
 ],
 "metadata": {
  "kernelspec": {
   "display_name": "Python 3",
   "language": "python",
   "name": "python3"
  },
  "language_info": {
   "codemirror_mode": {
    "name": "ipython",
    "version": 3
   },
   "file_extension": ".py",
   "mimetype": "text/x-python",
   "name": "python",
   "nbconvert_exporter": "python",
   "pygments_lexer": "ipython3",
   "version": "3.5.1"
  }
 },
 "nbformat": 4,
 "nbformat_minor": 0
}
