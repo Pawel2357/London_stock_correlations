{
 "cells": [
  {
   "cell_type": "markdown",
   "metadata": {},
   "source": [
    "E1. Analiza dynamiki wybranej giełdy za pomocą  wybranej techniki teorii grafów \n",
    "\n",
    "**Research question: What are correlations between constituents?**\n",
    "\n",
    "Celem tego ćwiczenia jest zbadanie dynamiki wybranej giełdy w okresie narastania wybranej bańki giełdowej oraz  jej pęknięcia, z wykorzystaniem teorii grafów. Realizacja ćwiczenia składa się  z następujących etapów:  \n",
    "\n",
    "1.  wybór  giełdy  i  ściągnięcie  odpowiednich  empirycznych  danych  giełdowych  z  wybranej  strony internetowej lub uzyskanie ich bezpośrednio z danej giełdy,  \n",
    "    1. Download FTSE100 historical data from yahoo, transform it into a dataframe and save to a file.\n",
    "    2. Download FTSE250 historical data from yahoo, transform it into a dataframe and save to a file.\n",
    "    3. Plot number of constituents(time) for FTSE100\n",
    "    4. Plot number of constituents(time) for FTSE250\n",
    "2.  dobór odpowiedniego modelu sieci oraz algorytmu generującego,  \n",
    "3.  dobór właściwych przedziałów średniowania,  \n",
    "4.  dyskusja  uzyskanych  wyników  a  w tym  zwłaszcza  ewentualnych  strukturalnych  topologicznych) przemian fazowych prowadzących do analizy kryzysu i krachu. \n",
    "\n",
    "### Questions\n",
    "    Should I use log transformation?\n",
    "    How should I calculate <Si> How many days average. (See exercise notes 1.2)\n",
    "    How to calculate distances between companies? How to interpret them?\n",
    "\n",
    "[Exercise materials](https://drive.google.com/open?id=0ByG3ASYoU228cnFHaEZDR0tQcWlaZlNGa2xoUEhNSUJfMDg4)\n",
    "\n",
    "### Notes(Exercise materials)\n",
    "    1.1 Diferences a couple orders of magnitude\n",
    "    1.2 <Si> - average over for example 50 days.\n",
    "\n"
   ]
  },
  {
   "cell_type": "code",
   "execution_count": 18,
   "metadata": {
    "collapsed": false
   },
   "outputs": [],
   "source": [
    "import urllib,time,datetime\n",
    "import pandas.io.data as web\n",
    "import pandas as pd\n",
    "import numpy as np\n",
    "import pylab as py\n",
    "\n",
    "%matplotlib inline"
   ]
  },
  {
   "cell_type": "markdown",
   "metadata": {
    "collapsed": true
   },
   "source": [
    "1. \n",
    "    A. Below I download FTSE100 historical data from yahoo and save it to data_FTSE100.txt"
   ]
  },
  {
   "cell_type": "code",
   "execution_count": 19,
   "metadata": {
    "collapsed": false
   },
   "outputs": [],
   "source": [
    "start = datetime.datetime(1985, 1, 1)\n",
    "end = datetime.datetime(2015, 4, 29)"
   ]
  },
  {
   "cell_type": "code",
   "execution_count": 30,
   "metadata": {
    "collapsed": false
   },
   "outputs": [],
   "source": [
    "with open('./constituents_FTSE100') as f:\n",
    "    lines = f.readlines()"
   ]
  },
  {
   "cell_type": "code",
   "execution_count": 31,
   "metadata": {
    "collapsed": false
   },
   "outputs": [],
   "source": [
    "#fig = py.figure()\n",
    "f=web.DataReader(lines[0].strip(), 'yahoo', start, end)\n",
    "\n",
    "lines = lines[0:100]\n",
    "y=[]\n",
    "\n",
    "for line in lines:\n",
    "    if len(line.strip())>1:\n",
    "        try:\n",
    "            f=web.DataReader(line.strip(), 'yahoo', start, end)\n",
    "        except:\n",
    "            raise\n",
    "        else:\n",
    "            y.append( f['Open'] )            \n",
    "            #print( f )\n",
    "#print ( y[0]['Open'] )\n",
    "#print ( y[1] )\n",
    "#print ( \"And so on ...\" )\n",
    "\n",
    "# = y[0]['Open'] \n",
    "\n",
    "Stock_values_dataframe = pd.concat( y, axis=1 )\n",
    "\n",
    "Stock_values_dataframe.columns = [ line.replace( \"\\n\", \"\" ) for line in lines ]\n",
    "\n",
    "#print( Stock_values_dataframe )\n",
    "\n",
    "\n",
    "Stock_values_dataframe.to_csv( \"./data_FTSE100.txt\" )\n",
    "\n",
    "#file = open( \"./data_FTSE100.txt\", \"w\" )\n",
    "#for i in y:\n",
    "#    file.write( str( i ) ) \n",
    "#file.close()"
   ]
  },
  {
   "cell_type": "code",
   "execution_count": 33,
   "metadata": {
    "collapsed": false
   },
   "outputs": [
    {
     "name": "stdout",
     "output_type": "stream",
     "text": [
      "            Date   AAL.L    ABF.L  ADM.L  ADN.L  AGK.L     AHT.L   ANTO.L  \\\n",
      "0     1988-05-03     NaN      NaN    NaN    NaN    NaN       NaN      NaN   \n",
      "1     1988-05-04     NaN      NaN    NaN    NaN    NaN       NaN      NaN   \n",
      "2     1988-05-05     NaN      NaN    NaN    NaN    NaN       NaN      NaN   \n",
      "3     1988-05-06     NaN      NaN    NaN    NaN    NaN       NaN      NaN   \n",
      "4     1988-05-09     NaN      NaN    NaN    NaN    NaN       NaN      NaN   \n",
      "5     1988-05-10     NaN      NaN    NaN    NaN    NaN       NaN      NaN   \n",
      "6     1988-05-11     NaN      NaN    NaN    NaN    NaN       NaN      NaN   \n",
      "7     1988-05-12     NaN      NaN    NaN    NaN    NaN       NaN      NaN   \n",
      "8     1988-05-13     NaN      NaN    NaN    NaN    NaN       NaN      NaN   \n",
      "9     1988-05-16     NaN      NaN    NaN    NaN    NaN       NaN      NaN   \n",
      "10    1988-05-17     NaN      NaN    NaN    NaN    NaN       NaN      NaN   \n",
      "11    1988-05-18     NaN      NaN    NaN    NaN    NaN       NaN      NaN   \n",
      "12    1988-05-19     NaN      NaN    NaN    NaN    NaN       NaN      NaN   \n",
      "13    1988-05-20     NaN      NaN    NaN    NaN    NaN       NaN      NaN   \n",
      "14    1988-05-23     NaN      NaN    NaN    NaN    NaN       NaN      NaN   \n",
      "15    1988-05-24     NaN      NaN    NaN    NaN    NaN       NaN      NaN   \n",
      "16    1988-05-25     NaN      NaN    NaN    NaN    NaN       NaN      NaN   \n",
      "17    1988-05-26     NaN      NaN    NaN    NaN    NaN       NaN      NaN   \n",
      "18    1988-05-27     NaN      NaN    NaN    NaN    NaN       NaN      NaN   \n",
      "19    1988-05-30     NaN      NaN    NaN    NaN    NaN       NaN      NaN   \n",
      "20    1988-05-31     NaN      NaN    NaN    NaN    NaN       NaN      NaN   \n",
      "21    1988-06-27     NaN      NaN    NaN    NaN    NaN       NaN      NaN   \n",
      "22    1988-06-28     NaN      NaN    NaN    NaN    NaN       NaN      NaN   \n",
      "23    1988-06-29     NaN      NaN    NaN    NaN    NaN       NaN      NaN   \n",
      "24    1988-06-30     NaN      NaN    NaN    NaN    NaN       NaN      NaN   \n",
      "25    1988-07-01     NaN   258.72    NaN    NaN    NaN   428.800  268.855   \n",
      "26    1988-07-04     NaN   253.44    NaN    NaN    NaN   433.008  267.860   \n",
      "27    1988-07-05     NaN   254.32    NaN    NaN    NaN   433.008  265.880   \n",
      "28    1988-07-06     NaN   255.20    NaN    NaN    NaN   437.208  267.860   \n",
      "29    1988-07-07     NaN   253.44    NaN    NaN    NaN   433.008  265.880   \n",
      "...          ...     ...      ...    ...    ...    ...       ...      ...   \n",
      "6994  2015-03-19  1055.0  3077.00   1543  471.9   1601  1140.000  689.500   \n",
      "6995  2015-03-20  1052.5  3058.00   1526  474.3   1586  1133.000  698.500   \n",
      "6996  2015-03-23  1107.5  3046.00   1543  476.0   1573  1134.000  716.500   \n",
      "6997  2015-03-24  1106.0  2998.00   1555  475.0   1573  1115.000  728.000   \n",
      "6998  2015-03-25  1090.0  2934.00   1572  479.5   1575  1131.000  725.500   \n",
      "6999  2015-03-26  1101.5  2891.00   1535  473.0   1556  1114.000  713.500   \n",
      "7000  2015-03-27  1073.0  2851.00   1544  472.3   1561  1101.000  720.000   \n",
      "7001  2015-03-30  1054.0  2876.00   1545  470.1   1558  1081.000  724.000   \n",
      "7002  2015-03-31  1060.5  2854.00   1540  468.6   1531  1102.000  745.000   \n",
      "7003  2015-04-01  1010.0  2813.00   1525  457.0   1523  1082.000  732.000   \n",
      "7004  2015-04-02  1011.5  2820.00   1538  462.9   1547  1085.000  729.500   \n",
      "7005  2015-04-03   997.0  2866.00   1551  464.9   1568  1082.000  718.000   \n",
      "7006  2015-04-06   997.0  2866.00   1551  464.9   1568  1082.000  718.000   \n",
      "7007  2015-04-07  1018.5  2869.00   1555  465.6   1570  1090.000  718.500   \n",
      "7008  2015-04-08  1028.5  2950.00   1553  466.5   1591  1096.000  742.000   \n",
      "7009  2015-04-09  1000.0  2976.00   1570  468.8   1602  1065.000  735.000   \n",
      "7010  2015-04-10  1028.0  2999.00   1589  485.2   1546  1058.000  740.500   \n",
      "7011  2015-04-13  1009.0  3008.00   1598  507.0   1570  1073.000  737.000   \n",
      "7012  2015-04-14   993.8  2969.00   1587  495.0   1564  1088.000  718.000   \n",
      "7013  2015-04-15  1038.0  2966.00   1582  492.9   1600  1112.000  742.000   \n",
      "7014  2015-04-16  1058.0  2978.00   1616  494.6   1599  1132.000  756.000   \n",
      "7015  2015-04-17  1035.5  2967.00   1608  491.2   1621  1112.000  747.500   \n",
      "7016  2015-04-20  1014.5  2920.00   1595  483.7   1601  1121.000  735.500   \n",
      "7017  2015-04-21  1030.0  2735.00   1625  488.0   1627  1149.000  750.000   \n",
      "7018  2015-04-22  1026.5  2735.00   1635  490.6   1660  1122.000  753.500   \n",
      "7019  2015-04-23  1010.0  2755.00   1607  487.5   1658  1142.000  746.000   \n",
      "7020  2015-04-24  1066.5  2767.00   1599  483.0   1650  1175.000  796.000   \n",
      "7021  2015-04-27  1117.0  2785.00   1582  476.0   1682  1167.000  803.000   \n",
      "7022  2015-04-28  1098.0  2807.00   1591  472.4   1635  1166.000  802.500   \n",
      "7023  2015-04-29  1120.0  2798.00   1574  466.2   1652  1149.000  780.000   \n",
      "\n",
      "      ARM.L     AV.L    ...      TSCO.L  TUI.L   TW.L    ULVR.L    UU.L  \\\n",
      "0       NaN      NaN    ...         NaN    NaN    NaN       NaN     NaN   \n",
      "1       NaN      NaN    ...         NaN    NaN    NaN       NaN     NaN   \n",
      "2       NaN      NaN    ...         NaN    NaN    NaN       NaN     NaN   \n",
      "3       NaN      NaN    ...         NaN    NaN    NaN       NaN     NaN   \n",
      "4       NaN      NaN    ...         NaN    NaN    NaN       NaN     NaN   \n",
      "5       NaN      NaN    ...         NaN    NaN    NaN       NaN     NaN   \n",
      "6       NaN      NaN    ...         NaN    NaN    NaN       NaN     NaN   \n",
      "7       NaN      NaN    ...         NaN    NaN    NaN       NaN     NaN   \n",
      "8       NaN      NaN    ...         NaN    NaN    NaN       NaN     NaN   \n",
      "9       NaN      NaN    ...         NaN    NaN    NaN       NaN     NaN   \n",
      "10      NaN      NaN    ...         NaN    NaN    NaN       NaN     NaN   \n",
      "11      NaN      NaN    ...         NaN    NaN    NaN       NaN     NaN   \n",
      "12      NaN      NaN    ...         NaN    NaN    NaN       NaN     NaN   \n",
      "13      NaN      NaN    ...         NaN    NaN    NaN       NaN     NaN   \n",
      "14      NaN      NaN    ...         NaN    NaN    NaN       NaN     NaN   \n",
      "15      NaN      NaN    ...         NaN    NaN    NaN       NaN     NaN   \n",
      "16      NaN      NaN    ...         NaN    NaN    NaN       NaN     NaN   \n",
      "17      NaN      NaN    ...         NaN    NaN    NaN       NaN     NaN   \n",
      "18      NaN      NaN    ...         NaN    NaN    NaN       NaN     NaN   \n",
      "19      NaN      NaN    ...         NaN    NaN    NaN       NaN     NaN   \n",
      "20      NaN      NaN    ...         NaN    NaN    NaN       NaN     NaN   \n",
      "21      NaN      NaN    ...         NaN    NaN    NaN       NaN     NaN   \n",
      "22      NaN      NaN    ...         NaN    NaN    NaN       NaN     NaN   \n",
      "23      NaN      NaN    ...         NaN    NaN    NaN       NaN     NaN   \n",
      "24      NaN      NaN    ...         NaN    NaN    NaN       NaN     NaN   \n",
      "25      NaN  336.936    ...     153.000    NaN  429.0   466.500     NaN   \n",
      "26      NaN  336.034    ...     150.000    NaN  427.0   469.998     NaN   \n",
      "27      NaN  336.936    ...     152.001    NaN  426.0   467.999     NaN   \n",
      "28      NaN  340.539    ...     150.000    NaN  425.0   478.998     NaN   \n",
      "29      NaN  334.233    ...     147.000    NaN  425.0   476.000     NaN   \n",
      "...     ...      ...    ...         ...    ...    ...       ...     ...   \n",
      "6994   1188  558.000    ...     242.900   1205  154.0  2925.000   937.5   \n",
      "6995   1205  568.000    ...     244.950   1188  155.5  2909.000   950.5   \n",
      "6996   1206  571.000    ...     245.650   1175  154.6  2898.000   950.0   \n",
      "6997   1200  561.500    ...     244.700   1170  154.4  2905.000   959.5   \n",
      "6998   1195  572.000    ...     242.650   1195  156.8  2918.000   963.5   \n",
      "6999   1104  554.500    ...     237.400   1206  155.6  2860.000   953.5   \n",
      "7000   1089  556.000    ...     237.800   1210  156.5  2857.000   940.0   \n",
      "7001   1099  556.500    ...     240.950   1213  156.0  2883.000   953.0   \n",
      "7002   1108  550.000    ...     241.850   1199  155.3  2888.000   945.5   \n",
      "7003   1100  540.000    ...     240.600   1184  155.1  2796.000   934.0   \n",
      "7004   1100  550.500    ...     242.750   1204  152.5  2826.000   954.0   \n",
      "7005   1099  553.000    ...     244.300   1213  153.2  2856.000   938.0   \n",
      "7006   1099  553.000    ...     244.300   1213  153.2  2856.000   938.0   \n",
      "7007   1110  558.000    ...     245.300   1218  154.0  2900.000   943.5   \n",
      "7008   1108  547.500    ...     250.100   1222  158.9  2898.000   957.5   \n",
      "7009   1135  552.500    ...     247.750   1229  158.1  2897.000   965.5   \n",
      "7010   1151  551.000    ...     248.000   1228  162.9  2926.000   975.5   \n",
      "7011   1164  564.000    ...     248.900   1245  165.0  2929.000   980.5   \n",
      "7012   1169  560.000    ...     243.100   1231  163.5  2903.000   976.0   \n",
      "7013   1165  556.500    ...     243.800   1235  165.5  2910.000   977.5   \n",
      "7014   1157  562.000    ...     248.350   1234  166.4  3005.000   978.5   \n",
      "7015   1130  550.000    ...     240.500   1211  162.3  3000.000   970.0   \n",
      "7016   1133  545.500    ...     235.000   1196  161.7  3008.000   964.0   \n",
      "7017   1218  546.000    ...     236.700   1217  162.9  2995.000   966.5   \n",
      "7018   1203  538.000    ...     234.700   1235  165.6  3024.000   983.0   \n",
      "7019   1189  540.000    ...     224.000   1217  166.8  2968.000   974.0   \n",
      "7020   1195  537.000    ...     224.150   1209  166.2  2993.000   989.0   \n",
      "7021   1178  532.000    ...     224.600   1223  170.1  2983.000  1003.0   \n",
      "7022   1199  533.500    ...     221.450   1229  168.4  2968.000   991.0   \n",
      "7023   1162  527.500    ...     220.000   1214  165.9  2937.000   993.0   \n",
      "\n",
      "       VOD.L    WEIR.L     WOS.L  WPP.L     WTB.L  \n",
      "0        NaN       NaN       NaN    NaN       NaN  \n",
      "1        NaN       NaN       NaN    NaN       NaN  \n",
      "2        NaN       NaN       NaN    NaN       NaN  \n",
      "3        NaN       NaN       NaN    NaN       NaN  \n",
      "4        NaN       NaN       NaN    NaN       NaN  \n",
      "5        NaN       NaN       NaN    NaN       NaN  \n",
      "6        NaN       NaN       NaN    NaN       NaN  \n",
      "7        NaN       NaN       NaN    NaN       NaN  \n",
      "8        NaN       NaN       NaN    NaN       NaN  \n",
      "9        NaN       NaN       NaN    NaN       NaN  \n",
      "10       NaN       NaN       NaN    NaN       NaN  \n",
      "11       NaN       NaN       NaN    NaN       NaN  \n",
      "12       NaN       NaN       NaN    NaN       NaN  \n",
      "13       NaN       NaN       NaN    NaN       NaN  \n",
      "14       NaN       NaN       NaN    NaN       NaN  \n",
      "15       NaN       NaN       NaN    NaN       NaN  \n",
      "16       NaN       NaN       NaN    NaN       NaN  \n",
      "17       NaN       NaN       NaN    NaN       NaN  \n",
      "18       NaN       NaN       NaN    NaN       NaN  \n",
      "19       NaN       NaN       NaN    NaN       NaN  \n",
      "20       NaN       NaN       NaN    NaN       NaN  \n",
      "21       NaN       NaN       NaN    NaN       NaN  \n",
      "22       NaN       NaN       NaN    NaN       NaN  \n",
      "23       NaN       NaN       NaN    NaN       NaN  \n",
      "24       NaN       NaN       NaN    NaN       NaN  \n",
      "25       NaN   926.308   112.602    NaN   282.103  \n",
      "26       NaN   922.382   113.021    NaN   279.960  \n",
      "27       NaN   930.232   113.439    NaN   280.241  \n",
      "28       NaN   934.158   113.858    NaN   279.309  \n",
      "29       NaN   922.382   114.276    NaN   275.585  \n",
      "...      ...       ...       ...    ...       ...  \n",
      "6994  224.40  1776.000  4182.000   1589  5410.000  \n",
      "6995  225.00  1788.000  4214.000   1590  5455.000  \n",
      "6996  229.00  1836.000  4218.000   1578  5405.000  \n",
      "6997  227.60  1805.000  4090.000   1573  5330.000  \n",
      "6998  226.25  1791.000  4082.000   1580  5330.000  \n",
      "6999  222.80  1768.000  4020.000   1552  5260.000  \n",
      "7000  227.95  1784.000  4035.000   1547  5255.000  \n",
      "7001  226.90  1733.000  4045.000   1563  5290.000  \n",
      "7002  225.05  1710.000  4010.000   1554  5240.000  \n",
      "7003  220.00  1700.000  3991.000   1530  5245.000  \n",
      "7004  221.00  1702.000  3960.000   1515  5225.000  \n",
      "7005  222.20  1737.000  4019.000   1539  5255.000  \n",
      "7006  222.20  1737.000  4019.000   1539  5255.000  \n",
      "7007  222.35  1769.000  4030.000   1545  5295.000  \n",
      "7008  225.00  1820.000  4030.000   1554  5300.000  \n",
      "7009  223.50  1778.000  4036.000   1566  5300.000  \n",
      "7010  225.80  1768.000  4098.000   1587  5415.000  \n",
      "7011  228.60  1773.000  4098.000   1609  5405.000  \n",
      "7012  227.90  1781.000  4069.000   1591  5365.000  \n",
      "7013  228.80  1890.000  4099.000   1590  5350.000  \n",
      "7014  228.90  1915.000  4113.000   1595  5340.000  \n",
      "7015  227.75  1911.000  4081.000   1568  5220.000  \n",
      "7016  229.45  1880.000  4066.000   1554  5265.000  \n",
      "7017  230.00  1895.000  4066.000   1556  5300.000  \n",
      "7018  228.45  1837.000  4054.000   1587  5335.000  \n",
      "7019  228.40  1800.000  4020.000   1587  5315.000  \n",
      "7020  230.90  1785.000  3984.000   1579  5325.000  \n",
      "7021  232.05  1755.000  3949.000   1584  5365.000  \n",
      "7022  231.50  1761.000  3971.000   1588  5440.000  \n",
      "7023  232.05  1703.000  3905.000   1560  5325.000  \n",
      "\n",
      "[7024 rows x 101 columns]\n",
      "100\n"
     ]
    }
   ],
   "source": [
    "Stock_values_dataframe = pd.read_csv( \"./data_FTSE100.txt\" )\n",
    "\n",
    "print( Stock_values_dataframe )\n",
    "print( len( lines ) )\n",
    "#print( lines[] )"
   ]
  },
  {
   "cell_type": "code",
   "execution_count": 14,
   "metadata": {
    "collapsed": false
   },
   "outputs": [
    {
     "data": {
      "image/png": "[encoded data removed]",
      "text/plain": [
       "<matplotlib.figure.Figure at 0x7f1249149780>"
      ]
     },
     "metadata": {},
     "output_type": "display_data"
    },
    {
     "data": {
      "text/plain": [
       "<matplotlib.figure.Figure at 0x7f124916e898>"
      ]
     },
     "metadata": {},
     "output_type": "display_data"
    }
   ],
   "source": [
    "py.xlabel('Date')\n",
    "py.ylabel('liczba spolek')\n",
    "py.title('FTSE100')\n",
    "\n",
    "x=[]\n",
    "\n",
    "for i in y:\n",
    "    j=0\n",
    "    for k in y:\n",
    "        if k<=i:\n",
    "            j+=1\n",
    "    x.append(j)\n",
    "\n",
    "py.plot(y,x, 'ro')\n",
    "py.show()\n",
    "#fig.savefig('/home/pawel/Documents/magisterka/Financial_historical_data/constituents100.jpg')\n",
    "py.clf()"
   ]
  },
  {
   "cell_type": "markdown",
   "metadata": {},
   "source": [
    "1. \n",
    "    B. Below I download FTSE250 historical data from yahoo"
   ]
  },
  {
   "cell_type": "code",
   "execution_count": 17,
   "metadata": {
    "collapsed": false
   },
   "outputs": [
    {
     "ename": "OSError",
     "evalue": "after 3 tries, Yahoo! did not return a 200 for url 'http://ichart.finance.yahoo.com/table.csv?s=BNKR.L&a=0&b=1&c=1985&d=3&e=29&f=2015&g=d&ignore=.csv'",
     "output_type": "error",
     "traceback": [
      "\u001b[1;31m---------------------------------------------------------------------------\u001b[0m",
      "\u001b[1;31mOSError\u001b[0m                                   Traceback (most recent call last)",
      "\u001b[1;32m<ipython-input-17-db515efdd461>\u001b[0m in \u001b[0;36m<module>\u001b[1;34m()\u001b[0m\n\u001b[0;32m      5\u001b[0m     \u001b[1;32mif\u001b[0m \u001b[0mlen\u001b[0m\u001b[1;33m(\u001b[0m\u001b[0mline\u001b[0m\u001b[1;33m.\u001b[0m\u001b[0mstrip\u001b[0m\u001b[1;33m(\u001b[0m\u001b[1;33m)\u001b[0m\u001b[1;33m)\u001b[0m\u001b[1;33m>\u001b[0m\u001b[1;36m1\u001b[0m\u001b[1;33m:\u001b[0m\u001b[1;33m\u001b[0m\u001b[0m\n\u001b[0;32m      6\u001b[0m         \u001b[1;32mtry\u001b[0m\u001b[1;33m:\u001b[0m\u001b[1;33m\u001b[0m\u001b[0m\n\u001b[1;32m----> 7\u001b[1;33m             \u001b[0mf\u001b[0m\u001b[1;33m=\u001b[0m\u001b[0mweb\u001b[0m\u001b[1;33m.\u001b[0m\u001b[0mDataReader\u001b[0m\u001b[1;33m(\u001b[0m\u001b[0mline\u001b[0m\u001b[1;33m.\u001b[0m\u001b[0mstrip\u001b[0m\u001b[1;33m(\u001b[0m\u001b[1;33m)\u001b[0m\u001b[1;33m,\u001b[0m \u001b[1;34m'yahoo'\u001b[0m\u001b[1;33m,\u001b[0m \u001b[0mstart\u001b[0m\u001b[1;33m,\u001b[0m \u001b[0mend\u001b[0m\u001b[1;33m)\u001b[0m\u001b[1;33m\u001b[0m\u001b[0m\n\u001b[0m\u001b[0;32m      8\u001b[0m         \u001b[1;32mexcept\u001b[0m\u001b[1;33m:\u001b[0m\u001b[1;33m\u001b[0m\u001b[0m\n\u001b[0;32m      9\u001b[0m             \u001b[1;32mraise\u001b[0m\u001b[1;33m\u001b[0m\u001b[0m\n",
      "\u001b[1;32m/home/pawel/anaconda3/lib/python3.5/site-packages/pandas/io/data.py\u001b[0m in \u001b[0;36mDataReader\u001b[1;34m(name, data_source, start, end, retry_count, pause)\u001b[0m\n\u001b[0;32m     89\u001b[0m         return get_data_yahoo(symbols=name, start=start, end=end,\n\u001b[0;32m     90\u001b[0m                               \u001b[0madjust_price\u001b[0m\u001b[1;33m=\u001b[0m\u001b[1;32mFalse\u001b[0m\u001b[1;33m,\u001b[0m \u001b[0mchunksize\u001b[0m\u001b[1;33m=\u001b[0m\u001b[1;36m25\u001b[0m\u001b[1;33m,\u001b[0m\u001b[1;33m\u001b[0m\u001b[0m\n\u001b[1;32m---> 91\u001b[1;33m                               retry_count=retry_count, pause=pause)\n\u001b[0m\u001b[0;32m     92\u001b[0m     \u001b[1;32melif\u001b[0m \u001b[0mdata_source\u001b[0m \u001b[1;33m==\u001b[0m \u001b[1;34m\"google\"\u001b[0m\u001b[1;33m:\u001b[0m\u001b[1;33m\u001b[0m\u001b[0m\n\u001b[0;32m     93\u001b[0m         return get_data_google(symbols=name, start=start, end=end,\n",
      "\u001b[1;32m/home/pawel/anaconda3/lib/python3.5/site-packages/pandas/io/data.py\u001b[0m in \u001b[0;36mget_data_yahoo\u001b[1;34m(symbols, start, end, retry_count, pause, adjust_price, ret_index, chunksize, interval)\u001b[0m\n\u001b[0;32m    436\u001b[0m         \u001b[1;32mraise\u001b[0m \u001b[0mValueError\u001b[0m\u001b[1;33m(\u001b[0m\u001b[1;34m\"Invalid interval: valid values are 'd', 'w', 'm' and 'v'\"\u001b[0m\u001b[1;33m)\u001b[0m\u001b[1;33m\u001b[0m\u001b[0m\n\u001b[0;32m    437\u001b[0m     return _get_data_from(symbols, start, end, interval, retry_count, pause,\n\u001b[1;32m--> 438\u001b[1;33m                           adjust_price, ret_index, chunksize, 'yahoo')\n\u001b[0m\u001b[0;32m    439\u001b[0m \u001b[1;33m\u001b[0m\u001b[0m\n\u001b[0;32m    440\u001b[0m \u001b[1;33m\u001b[0m\u001b[0m\n",
      "\u001b[1;32m/home/pawel/anaconda3/lib/python3.5/site-packages/pandas/io/data.py\u001b[0m in \u001b[0;36m_get_data_from\u001b[1;34m(symbols, start, end, interval, retry_count, pause, adjust_price, ret_index, chunksize, source)\u001b[0m\n\u001b[0;32m    377\u001b[0m     \u001b[1;31m# If a single symbol, (e.g., 'GOOG')\u001b[0m\u001b[1;33m\u001b[0m\u001b[1;33m\u001b[0m\u001b[0m\n\u001b[0;32m    378\u001b[0m     \u001b[1;32mif\u001b[0m \u001b[0misinstance\u001b[0m\u001b[1;33m(\u001b[0m\u001b[0msymbols\u001b[0m\u001b[1;33m,\u001b[0m \u001b[1;33m(\u001b[0m\u001b[0mcompat\u001b[0m\u001b[1;33m.\u001b[0m\u001b[0mstring_types\u001b[0m\u001b[1;33m,\u001b[0m \u001b[0mint\u001b[0m\u001b[1;33m)\u001b[0m\u001b[1;33m)\u001b[0m\u001b[1;33m:\u001b[0m\u001b[1;33m\u001b[0m\u001b[0m\n\u001b[1;32m--> 379\u001b[1;33m         \u001b[0mhist_data\u001b[0m \u001b[1;33m=\u001b[0m \u001b[0msrc_fn\u001b[0m\u001b[1;33m(\u001b[0m\u001b[0msymbols\u001b[0m\u001b[1;33m,\u001b[0m \u001b[0mstart\u001b[0m\u001b[1;33m,\u001b[0m \u001b[0mend\u001b[0m\u001b[1;33m,\u001b[0m \u001b[0minterval\u001b[0m\u001b[1;33m,\u001b[0m \u001b[0mretry_count\u001b[0m\u001b[1;33m,\u001b[0m \u001b[0mpause\u001b[0m\u001b[1;33m)\u001b[0m\u001b[1;33m\u001b[0m\u001b[0m\n\u001b[0m\u001b[0;32m    380\u001b[0m     \u001b[1;31m# Or multiple symbols, (e.g., ['GOOG', 'AAPL', 'MSFT'])\u001b[0m\u001b[1;33m\u001b[0m\u001b[1;33m\u001b[0m\u001b[0m\n\u001b[0;32m    381\u001b[0m     \u001b[1;32melif\u001b[0m \u001b[0misinstance\u001b[0m\u001b[1;33m(\u001b[0m\u001b[0msymbols\u001b[0m\u001b[1;33m,\u001b[0m \u001b[0mDataFrame\u001b[0m\u001b[1;33m)\u001b[0m\u001b[1;33m:\u001b[0m\u001b[1;33m\u001b[0m\u001b[0m\n",
      "\u001b[1;32m/home/pawel/anaconda3/lib/python3.5/site-packages/pandas/io/data.py\u001b[0m in \u001b[0;36m_get_hist_yahoo\u001b[1;34m(sym, start, end, interval, retry_count, pause)\u001b[0m\n\u001b[0;32m    220\u001b[0m            \u001b[1;34m'&g=%s'\u001b[0m \u001b[1;33m%\u001b[0m \u001b[0minterval\u001b[0m \u001b[1;33m+\u001b[0m\u001b[1;33m\u001b[0m\u001b[0m\n\u001b[0;32m    221\u001b[0m            '&ignore=.csv')\n\u001b[1;32m--> 222\u001b[1;33m     \u001b[1;32mreturn\u001b[0m \u001b[0m_retry_read_url\u001b[0m\u001b[1;33m(\u001b[0m\u001b[0murl\u001b[0m\u001b[1;33m,\u001b[0m \u001b[0mretry_count\u001b[0m\u001b[1;33m,\u001b[0m \u001b[0mpause\u001b[0m\u001b[1;33m,\u001b[0m \u001b[1;34m'Yahoo!'\u001b[0m\u001b[1;33m)\u001b[0m\u001b[1;33m\u001b[0m\u001b[0m\n\u001b[0m\u001b[0;32m    223\u001b[0m \u001b[1;33m\u001b[0m\u001b[0m\n\u001b[0;32m    224\u001b[0m \u001b[1;33m\u001b[0m\u001b[0m\n",
      "\u001b[1;32m/home/pawel/anaconda3/lib/python3.5/site-packages/pandas/io/data.py\u001b[0m in \u001b[0;36m_retry_read_url\u001b[1;34m(url, retry_count, pause, name)\u001b[0m\n\u001b[0;32m    197\u001b[0m \u001b[1;33m\u001b[0m\u001b[0m\n\u001b[0;32m    198\u001b[0m     raise IOError(\"after %d tries, %s did not \"\n\u001b[1;32m--> 199\u001b[1;33m                   \"return a 200 for url %r\" % (retry_count, name, url))\n\u001b[0m\u001b[0;32m    200\u001b[0m \u001b[1;33m\u001b[0m\u001b[0m\n\u001b[0;32m    201\u001b[0m \u001b[1;33m\u001b[0m\u001b[0m\n",
      "\u001b[1;31mOSError\u001b[0m: after 3 tries, Yahoo! did not return a 200 for url 'http://ichart.finance.yahoo.com/table.csv?s=BNKR.L&a=0&b=1&c=1985&d=3&e=29&f=2015&g=d&ignore=.csv'"
     ]
    }
   ],
   "source": [
    "with open('./constituents_FTSE250') as f:\n",
    "    lines = f.readlines()\n",
    "    \n",
    "for line in lines:\n",
    "    if len(line.strip())>1:\n",
    "        try:\n",
    "            f=web.DataReader(line.strip(), 'yahoo', start, end)\n",
    "        except:\n",
    "            raise\n",
    "        else:\n",
    "            y.append(f.index.date[0])            \n",
    "            #print f.index.date[0]"
   ]
  },
  {
   "cell_type": "code",
   "execution_count": null,
   "metadata": {
    "collapsed": true
   },
   "outputs": [],
   "source": [
    "py.xlabel('Data wejscia')\n",
    "py.ylabel('liczba spolek')\n",
    "py.title('FTSE250')\n",
    "\n",
    "\n",
    "for i in y:\n",
    "    j=0\n",
    "    for k in y:\n",
    "        if k<=i:\n",
    "            j+=1\n",
    "    x.append(j)\n",
    "\n",
    "\n",
    "py.plot(y,x, 'ro')\n",
    "py.show()\n",
    "#fig.savefig('/home/pawel/Documents/magisterka/Financial_historical_data/constituents250.jpg')\n",
    "py.clf()"
   ]
  },
  {
   "cell_type": "code",
   "execution_count": null,
   "metadata": {
    "collapsed": true
   },
   "outputs": [],
   "source": []
  }
 ],
 "metadata": {
  "kernelspec": {
   "display_name": "Python 3",
   "language": "python",
   "name": "python3"
  },
  "language_info": {
   "codemirror_mode": {
    "name": "ipython",
    "version": 3
   },
   "file_extension": ".py",
   "mimetype": "text/x-python",
   "name": "python",
   "nbconvert_exporter": "python",
   "pygments_lexer": "ipython3",
   "version": "3.5.1"
  }
 },
 "nbformat": 4,
 "nbformat_minor": 0
}
