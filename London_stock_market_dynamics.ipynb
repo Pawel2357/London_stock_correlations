{
 "cells": [
  {
   "cell_type": "markdown",
   "metadata": {},
   "source": [
    "E1. Analiza dynamiki wybranej giełdy za pomocą  wybranej techniki teorii grafów \n",
    "\n",
    "**Research question: What are correlations between constituents?**\n",
    "\n",
    "Celem tego ćwiczenia jest zbadanie dynamiki wybranej giełdy w okresie narastania wybranej bańki giełdowej oraz  jej pęknięcia, z wykorzystaniem teorii grafów. Realizacja ćwiczenia składa się  z następujących etapów:  \n",
    "\n",
    "1.  wybór  giełdy  i  ściągnięcie  odpowiednich  empirycznych  danych  giełdowych  z  wybranej  strony internetowej lub uzyskanie ich bezpośrednio z danej giełdy,  \n",
    "    1. Download FTSE100 historical data from yahoo, transform it into a dataframe and save to a file.\n",
    "    2. Download FTSE250 historical data from yahoo, transform it into a dataframe and save to a file.\n",
    "    3. Plot number of constituents(time) for FTSE100\n",
    "    4. Plot number of constituents(time) for FTSE250\n",
    "2.  dobór odpowiedniego modelu sieci oraz algorytmu generującego,  \n",
    "3.  dobór właściwych przedziałów średniowania,  \n",
    "4.  dyskusja  uzyskanych  wyników  a  w tym  zwłaszcza  ewentualnych  strukturalnych  topologicznych) przemian fazowych prowadzących do analizy kryzysu i krachu. \n",
    "\n",
    "[Exercise materials](https://drive.google.com/open?id=0ByG3ASYoU228cnFHaEZDR0tQcWlaZlNGa2xoUEhNSUJfMDg4)\n",
    "\n",
    "### Notes(Exercise materials)\n",
    "    1.1 Diferences a couple orders of magnitude\n",
    "    1.2 <Si> - average over for example 50 days.\n",
    "\n"
   ]
  },
  {
   "cell_type": "code",
   "execution_count": 8,
   "metadata": {
    "collapsed": false
   },
   "outputs": [],
   "source": [
    "import urllib,time,datetime\n",
    "import pandas.io.data as web\n",
    "import pandas as pd\n",
    "import numpy as np\n",
    "import pylab as py\n",
    "\n",
    "%matplotlib inline"
   ]
  },
  {
   "cell_type": "markdown",
   "metadata": {
    "collapsed": true
   },
   "source": [
    "1. \n",
    "    A. Below I download FTSE100 historical data from yahoo and save it to data_FTSE100.txt"
   ]
  },
  {
   "cell_type": "code",
   "execution_count": 2,
   "metadata": {
    "collapsed": false
   },
   "outputs": [],
   "source": [
    "start = datetime.datetime(1985, 1, 1)\n",
    "end = datetime.datetime(2015, 4, 29)"
   ]
  },
  {
   "cell_type": "code",
   "execution_count": 3,
   "metadata": {
    "collapsed": false
   },
   "outputs": [],
   "source": [
    "with open('./constituents_FTSE100') as f:\n",
    "    lines = f.readlines()"
   ]
  },
  {
   "cell_type": "code",
   "execution_count": 9,
   "metadata": {
    "collapsed": false
   },
   "outputs": [
    {
     "name": "stdout",
     "output_type": "stream",
     "text": [
      "                Open      High       Low     Close    Volume  Adj Close\n",
      "Date                                                                   \n",
      "1999-05-24  3188.995  3188.995  3188.995  3188.995   7818200    750.972\n",
      "1999-05-25  3079.986  3079.986  3079.986  3079.986  20489800    725.301\n",
      "1999-05-26  3020.008  3034.996  2960.003  2971.005         0    699.638\n",
      "1999-05-27  2964.998  2999.997  2839.992  2866.008         0    674.912\n",
      "1999-05-28  2847.991  3045.998  2799.997  2874.008         0    676.796\n",
      "1999-05-31  2874.008  2874.008  2874.008  2874.008         0    676.796\n",
      "1999-06-01  2879.986  2955.007  2860.003  2899.997         0    682.916\n",
      "1999-06-02  2860.003  2996.011  2850.011  2936.006         0    691.396\n",
      "1999-06-03  2939.992  3009.989  2939.992  2958.010         0    696.577\n",
      "1999-06-04  2953.997  2969.994  2904.010  2966.008         0    698.461\n",
      "1999-06-07  2960.003  3069.994  2960.003  3063.005         0    721.303\n",
      "1999-06-08  3099.997  3250.010  3099.997  3150.010         0    741.791\n",
      "1999-06-09  3134.995  3220.990  3134.995  3204.993         0    754.739\n",
      "1999-06-10  3220.990  3285.009  3205.512  3252.003         0    765.810\n",
      "1999-06-11  3283.999  3325.003  3283.999  3296.011         0    776.173\n",
      "1999-06-14  3274.990  3285.009  3234.995  3261.012         0    767.931\n",
      "1999-06-15  3268.001  3272.997  3220.008  3230.000         0    760.628\n",
      "1999-06-16  3230.000  3242.012  3201.990  3212.992         0    756.623\n",
      "1999-06-17  3195.001  3195.001  3050.011  3115.995         0    733.781\n",
      "1999-06-18  3120.991  3150.010  2979.986  3034.996         0    714.707\n",
      "1999-06-21  3034.996  3055.007  2991.998  2993.991         0    705.051\n",
      "1999-06-22  2945.015  2960.003  2920.991  2933.003         0    690.689\n",
      "1999-06-23  2898.004  2899.014  2777.993  2790.005         0    657.014\n",
      "1999-06-24  2815.012  2885.010  2815.012  2860.003         0    673.498\n",
      "1999-06-25  2871.496  2939.992  2869.995  2904.993         0    684.093\n",
      "1999-06-28  2906.003  2987.002  2874.990  2893.991         0    681.502\n",
      "1999-06-29  2896.503  2925.004  2893.991  2893.991         0    681.502\n",
      "1999-06-30  2909.989  3020.991  2909.989  2963.988         0    697.985\n",
      "1999-07-01  3030.000  3126.232  3030.000  3104.010         0    730.959\n",
      "1999-07-02  3139.992  3160.002  3009.989  3104.010         0    730.959\n",
      "...              ...       ...       ...       ...       ...        ...\n",
      "2015-03-19  1055.000  1108.500  1042.500  1046.000   8425400   1018.565\n",
      "2015-03-20  1052.500  1108.500  1025.000  1100.500  11955500   1071.635\n",
      "2015-03-23  1107.500  1116.000  1080.000  1114.000   9751000   1084.781\n",
      "2015-03-24  1106.000  1125.500  1092.000  1093.500   5511000   1064.819\n",
      "2015-03-25  1090.000  1109.500  1090.000  1104.500   4312200   1075.530\n",
      "2015-03-26  1101.500  1124.000  1069.000  1076.500   7624000   1048.265\n",
      "2015-03-27  1073.000  1073.000  1031.000  1044.000   6960700   1016.617\n",
      "2015-03-30  1054.000  1069.000  1032.000  1060.000   7512800   1032.198\n",
      "2015-03-31  1060.500  1072.000  1010.000  1012.000   9709100    985.457\n",
      "2015-04-01  1010.000  1024.500  1004.500  1016.500   5902900    989.839\n",
      "2015-04-02  1011.500  1019.000   992.400   997.000   7662600    970.850\n",
      "2015-04-03   997.000   997.000   997.000   997.000         0    970.850\n",
      "2015-04-06   997.000   997.000   997.000   997.000         0    970.850\n",
      "2015-04-07  1018.500  1032.500  1005.500  1025.500   8116000    998.603\n",
      "2015-04-08  1028.500  1057.000  1023.500  1026.500   7305700    999.576\n",
      "2015-04-09  1000.000  1028.000   988.161  1024.000  10422600    997.142\n",
      "2015-04-10  1028.000  1034.500  1001.500  1022.000   7472800    995.194\n",
      "2015-04-13  1009.000  1022.530   989.000   998.700   5104700    972.505\n",
      "2015-04-14   993.800  1045.500   992.000  1039.500   9206300   1012.235\n",
      "2015-04-15  1038.000  1071.000  1034.500  1055.000   6899900   1027.329\n",
      "2015-04-16  1058.000  1065.500  1034.000  1039.000   7551600   1011.748\n",
      "2015-04-17  1035.500  1046.000   990.158  1010.500   8298200    983.996\n",
      "2015-04-20  1014.500  1047.000  1010.430  1038.000   6576400   1010.775\n",
      "2015-04-21  1030.000  1035.000  1003.000  1017.000   7752000    990.325\n",
      "2015-04-22  1026.500  1033.000   993.600  1014.000   8641900    987.404\n",
      "2015-04-23  1010.000  1063.000   999.700  1062.000  10050400   1034.145\n",
      "2015-04-24  1066.500  1103.500  1063.000  1082.000  11244600   1053.621\n",
      "2015-04-27  1117.000  1120.000  1076.000  1103.500   8420700   1074.557\n",
      "2015-04-28  1098.000  1132.500  1082.500  1129.000  15550800   1099.388\n",
      "2015-04-29  1120.000  1145.740  1112.000  1138.500  11551400   1108.639\n",
      "\n",
      "[4146 rows x 6 columns]\n",
      "               Open     High      Low    Close   Volume  Adj Close\n",
      "Date                                                              \n",
      "1988-07-01   258.72   258.72   258.72   258.72        0     75.298\n",
      "1988-07-04   253.44   253.44   253.44   253.44        0     73.761\n",
      "1988-07-05   254.32   254.32   254.32   254.32        0     74.017\n",
      "1988-07-06   255.20   255.20   255.20   255.20        0     74.274\n",
      "1988-07-07   253.44   253.44   253.44   253.44        0     73.761\n",
      "1988-07-08   258.72   258.72   258.72   258.72        0     75.298\n",
      "1988-07-11   258.72   258.72   258.72   258.72        0     75.298\n",
      "1988-07-12   256.96   256.96   256.96   256.96        0     74.786\n",
      "1988-07-13   256.96   256.96   256.96   256.96        0     74.786\n",
      "1988-07-14   257.84   257.84   257.84   257.84        0     75.042\n",
      "1988-07-15   256.96   256.96   256.96   256.96        0     74.786\n",
      "1988-07-18   256.96   256.96   256.96   256.96        0     74.786\n",
      "1988-07-19   256.96   256.96   256.96   256.96        0     74.786\n",
      "1988-07-20   264.00   264.00   264.00   264.00        0     76.835\n",
      "1988-07-21   263.12   263.12   263.12   263.12        0     76.579\n",
      "1988-07-22   263.12   263.12   263.12   263.12        0     76.579\n",
      "1988-07-25   263.12   263.12   263.12   263.12        0     76.579\n",
      "1988-07-26   263.12   263.12   263.12   263.12        0     76.579\n",
      "1988-07-27   262.24   262.24   262.24   262.24        0     76.322\n",
      "1988-07-28   272.80   272.80   272.80   272.80        0     79.396\n",
      "1988-07-29   275.44   275.44   275.44   275.44        0     80.164\n",
      "1988-08-01   278.08   278.08   278.08   278.08        0     80.933\n",
      "1988-08-02   278.08   278.08   278.08   278.08        0     80.933\n",
      "1988-08-03   280.72   280.72   280.72   280.72        0     81.701\n",
      "1988-08-04   281.60   281.60   281.60   281.60        0     81.957\n",
      "1988-08-05   283.36   283.36   283.36   283.36        0     82.469\n",
      "1988-08-08   282.48   282.48   282.48   282.48        0     82.213\n",
      "1988-08-09   282.48   282.48   282.48   282.48        0     82.213\n",
      "1988-08-10   280.72   280.72   280.72   280.72        0     81.701\n",
      "1988-08-11   277.20   277.20   277.20   277.20        0     80.676\n",
      "...             ...      ...      ...      ...      ...        ...\n",
      "2015-03-19  3077.00  3093.00  3047.00  3061.00   625700   3029.034\n",
      "2015-03-20  3058.00  3070.00  3025.00  3038.00   724500   3006.275\n",
      "2015-03-23  3046.00  3046.00  3008.00  3011.00   563300   2979.557\n",
      "2015-03-24  2998.00  2999.79  2925.00  2925.00  1365800   2894.455\n",
      "2015-03-25  2934.00  2954.00  2909.00  2911.00   891000   2880.601\n",
      "2015-03-26  2891.00  2908.00  2836.00  2849.00   861000   2819.248\n",
      "2015-03-27  2851.00  2861.00  2826.00  2845.00   978100   2815.290\n",
      "2015-03-30  2876.00  2883.00  2839.00  2855.00   509700   2825.186\n",
      "2015-03-31  2854.00  2868.00  2807.00  2818.00   871700   2788.572\n",
      "2015-04-01  2813.00  2853.00  2795.35  2816.00   868600   2786.593\n",
      "2015-04-02  2820.00  2866.00  2805.00  2866.00   584900   2836.071\n",
      "2015-04-03  2866.00  2866.00  2866.00  2866.00        0   2836.071\n",
      "2015-04-06  2866.00  2866.00  2866.00  2866.00        0   2836.071\n",
      "2015-04-07  2869.00  2964.00  2856.00  2964.00  1171200   2933.047\n",
      "2015-04-08  2950.00  2977.00  2918.00  2963.00   939400   2932.058\n",
      "2015-04-09  2976.00  3014.00  2975.00  3014.00   699700   2982.525\n",
      "2015-04-10  2999.00  3022.00  2979.00  3017.00   654500   2985.494\n",
      "2015-04-13  3008.00  3008.00  2978.00  2990.00   459800   2958.776\n",
      "2015-04-14  2969.00  2979.00  2942.00  2977.00   637600   2945.912\n",
      "2015-04-15  2966.00  3009.00  2949.00  2955.00  1247700   2924.141\n",
      "2015-04-16  2978.00  2990.00  2947.00  2958.00   783200   2927.110\n",
      "2015-04-17  2967.00  2994.00  2902.00  2906.00  1089700   2875.653\n",
      "2015-04-20  2920.00  2942.00  2860.00  2863.00  1128800   2833.102\n",
      "2015-04-21  2735.00  2805.00  2705.75  2712.00  3184200   2683.679\n",
      "2015-04-22  2735.00  2757.00  2706.95  2745.00  2105900   2716.334\n",
      "2015-04-23  2755.00  2778.00  2741.00  2771.00  1311700   2742.063\n",
      "2015-04-24  2767.00  2790.00  2760.00  2771.00  1213300   2742.063\n",
      "2015-04-27  2785.00  2827.00  2769.00  2809.00  1500600   2779.666\n",
      "2015-04-28  2807.00  2810.00  2769.00  2789.00  1254500   2759.875\n",
      "2015-04-29  2798.00  2808.00  2775.00  2791.00  1318700   2761.854\n",
      "\n",
      "[6983 rows x 6 columns]\n",
      "And so on ...\n"
     ]
    }
   ],
   "source": [
    "#fig = py.figure()\n",
    "f=web.DataReader(lines[0].strip(), 'yahoo', start, end)\n",
    "\n",
    "\n",
    "y=[]\n",
    "\n",
    "for line in lines:\n",
    "    if len(line.strip())>1:\n",
    "        try:\n",
    "            f=web.DataReader(line.strip(), 'yahoo', start, end)\n",
    "        except:\n",
    "            raise\n",
    "        else:\n",
    "            y.append(f)            \n",
    "            #print( f.index )\n",
    "print ( y[0] )\n",
    "print ( y[1] )\n",
    "print ( \"And so on ...\" )\n",
    "\n",
    "file = open( \"./data_FTSE100.txt\", \"w\" )\n",
    "for i in y:\n",
    "    file.write( str( i ) ) \n",
    "file.close()"
   ]
  },
  {
   "cell_type": "code",
   "execution_count": 14,
   "metadata": {
    "collapsed": false
   },
   "outputs": [
    {
     "data": {
      "image/png": "[encoded data removed]",
      "text/plain": [
       "<matplotlib.figure.Figure at 0x7f1249149780>"
      ]
     },
     "metadata": {},
     "output_type": "display_data"
    },
    {
     "data": {
      "text/plain": [
       "<matplotlib.figure.Figure at 0x7f124916e898>"
      ]
     },
     "metadata": {},
     "output_type": "display_data"
    }
   ],
   "source": [
    "py.xlabel('Date')\n",
    "py.ylabel('liczba spolek')\n",
    "py.title('FTSE100')\n",
    "\n",
    "x=[]\n",
    "\n",
    "for i in y:\n",
    "    j=0\n",
    "    for k in y:\n",
    "        if k<=i:\n",
    "            j+=1\n",
    "    x.append(j)\n",
    "\n",
    "py.plot(y,x, 'ro')\n",
    "py.show()\n",
    "#fig.savefig('/home/pawel/Documents/magisterka/Financial_historical_data/constituents100.jpg')\n",
    "py.clf()"
   ]
  },
  {
   "cell_type": "markdown",
   "metadata": {},
   "source": [
    "1. \n",
    "    B. Below I download FTSE250 historical data from yahoo"
   ]
  },
  {
   "cell_type": "code",
   "execution_count": 17,
   "metadata": {
    "collapsed": false
   },
   "outputs": [
    {
     "ename": "OSError",
     "evalue": "after 3 tries, Yahoo! did not return a 200 for url 'http://ichart.finance.yahoo.com/table.csv?s=BNKR.L&a=0&b=1&c=1985&d=3&e=29&f=2015&g=d&ignore=.csv'",
     "output_type": "error",
     "traceback": [
      "\u001b[1;31m---------------------------------------------------------------------------\u001b[0m",
      "\u001b[1;31mOSError\u001b[0m                                   Traceback (most recent call last)",
      "\u001b[1;32m<ipython-input-17-db515efdd461>\u001b[0m in \u001b[0;36m<module>\u001b[1;34m()\u001b[0m\n\u001b[0;32m      5\u001b[0m     \u001b[1;32mif\u001b[0m \u001b[0mlen\u001b[0m\u001b[1;33m(\u001b[0m\u001b[0mline\u001b[0m\u001b[1;33m.\u001b[0m\u001b[0mstrip\u001b[0m\u001b[1;33m(\u001b[0m\u001b[1;33m)\u001b[0m\u001b[1;33m)\u001b[0m\u001b[1;33m>\u001b[0m\u001b[1;36m1\u001b[0m\u001b[1;33m:\u001b[0m\u001b[1;33m\u001b[0m\u001b[0m\n\u001b[0;32m      6\u001b[0m         \u001b[1;32mtry\u001b[0m\u001b[1;33m:\u001b[0m\u001b[1;33m\u001b[0m\u001b[0m\n\u001b[1;32m----> 7\u001b[1;33m             \u001b[0mf\u001b[0m\u001b[1;33m=\u001b[0m\u001b[0mweb\u001b[0m\u001b[1;33m.\u001b[0m\u001b[0mDataReader\u001b[0m\u001b[1;33m(\u001b[0m\u001b[0mline\u001b[0m\u001b[1;33m.\u001b[0m\u001b[0mstrip\u001b[0m\u001b[1;33m(\u001b[0m\u001b[1;33m)\u001b[0m\u001b[1;33m,\u001b[0m \u001b[1;34m'yahoo'\u001b[0m\u001b[1;33m,\u001b[0m \u001b[0mstart\u001b[0m\u001b[1;33m,\u001b[0m \u001b[0mend\u001b[0m\u001b[1;33m)\u001b[0m\u001b[1;33m\u001b[0m\u001b[0m\n\u001b[0m\u001b[0;32m      8\u001b[0m         \u001b[1;32mexcept\u001b[0m\u001b[1;33m:\u001b[0m\u001b[1;33m\u001b[0m\u001b[0m\n\u001b[0;32m      9\u001b[0m             \u001b[1;32mraise\u001b[0m\u001b[1;33m\u001b[0m\u001b[0m\n",
      "\u001b[1;32m/home/pawel/anaconda3/lib/python3.5/site-packages/pandas/io/data.py\u001b[0m in \u001b[0;36mDataReader\u001b[1;34m(name, data_source, start, end, retry_count, pause)\u001b[0m\n\u001b[0;32m     89\u001b[0m         return get_data_yahoo(symbols=name, start=start, end=end,\n\u001b[0;32m     90\u001b[0m                               \u001b[0madjust_price\u001b[0m\u001b[1;33m=\u001b[0m\u001b[1;32mFalse\u001b[0m\u001b[1;33m,\u001b[0m \u001b[0mchunksize\u001b[0m\u001b[1;33m=\u001b[0m\u001b[1;36m25\u001b[0m\u001b[1;33m,\u001b[0m\u001b[1;33m\u001b[0m\u001b[0m\n\u001b[1;32m---> 91\u001b[1;33m                               retry_count=retry_count, pause=pause)\n\u001b[0m\u001b[0;32m     92\u001b[0m     \u001b[1;32melif\u001b[0m \u001b[0mdata_source\u001b[0m \u001b[1;33m==\u001b[0m \u001b[1;34m\"google\"\u001b[0m\u001b[1;33m:\u001b[0m\u001b[1;33m\u001b[0m\u001b[0m\n\u001b[0;32m     93\u001b[0m         return get_data_google(symbols=name, start=start, end=end,\n",
      "\u001b[1;32m/home/pawel/anaconda3/lib/python3.5/site-packages/pandas/io/data.py\u001b[0m in \u001b[0;36mget_data_yahoo\u001b[1;34m(symbols, start, end, retry_count, pause, adjust_price, ret_index, chunksize, interval)\u001b[0m\n\u001b[0;32m    436\u001b[0m         \u001b[1;32mraise\u001b[0m \u001b[0mValueError\u001b[0m\u001b[1;33m(\u001b[0m\u001b[1;34m\"Invalid interval: valid values are 'd', 'w', 'm' and 'v'\"\u001b[0m\u001b[1;33m)\u001b[0m\u001b[1;33m\u001b[0m\u001b[0m\n\u001b[0;32m    437\u001b[0m     return _get_data_from(symbols, start, end, interval, retry_count, pause,\n\u001b[1;32m--> 438\u001b[1;33m                           adjust_price, ret_index, chunksize, 'yahoo')\n\u001b[0m\u001b[0;32m    439\u001b[0m \u001b[1;33m\u001b[0m\u001b[0m\n\u001b[0;32m    440\u001b[0m \u001b[1;33m\u001b[0m\u001b[0m\n",
      "\u001b[1;32m/home/pawel/anaconda3/lib/python3.5/site-packages/pandas/io/data.py\u001b[0m in \u001b[0;36m_get_data_from\u001b[1;34m(symbols, start, end, interval, retry_count, pause, adjust_price, ret_index, chunksize, source)\u001b[0m\n\u001b[0;32m    377\u001b[0m     \u001b[1;31m# If a single symbol, (e.g., 'GOOG')\u001b[0m\u001b[1;33m\u001b[0m\u001b[1;33m\u001b[0m\u001b[0m\n\u001b[0;32m    378\u001b[0m     \u001b[1;32mif\u001b[0m \u001b[0misinstance\u001b[0m\u001b[1;33m(\u001b[0m\u001b[0msymbols\u001b[0m\u001b[1;33m,\u001b[0m \u001b[1;33m(\u001b[0m\u001b[0mcompat\u001b[0m\u001b[1;33m.\u001b[0m\u001b[0mstring_types\u001b[0m\u001b[1;33m,\u001b[0m \u001b[0mint\u001b[0m\u001b[1;33m)\u001b[0m\u001b[1;33m)\u001b[0m\u001b[1;33m:\u001b[0m\u001b[1;33m\u001b[0m\u001b[0m\n\u001b[1;32m--> 379\u001b[1;33m         \u001b[0mhist_data\u001b[0m \u001b[1;33m=\u001b[0m \u001b[0msrc_fn\u001b[0m\u001b[1;33m(\u001b[0m\u001b[0msymbols\u001b[0m\u001b[1;33m,\u001b[0m \u001b[0mstart\u001b[0m\u001b[1;33m,\u001b[0m \u001b[0mend\u001b[0m\u001b[1;33m,\u001b[0m \u001b[0minterval\u001b[0m\u001b[1;33m,\u001b[0m \u001b[0mretry_count\u001b[0m\u001b[1;33m,\u001b[0m \u001b[0mpause\u001b[0m\u001b[1;33m)\u001b[0m\u001b[1;33m\u001b[0m\u001b[0m\n\u001b[0m\u001b[0;32m    380\u001b[0m     \u001b[1;31m# Or multiple symbols, (e.g., ['GOOG', 'AAPL', 'MSFT'])\u001b[0m\u001b[1;33m\u001b[0m\u001b[1;33m\u001b[0m\u001b[0m\n\u001b[0;32m    381\u001b[0m     \u001b[1;32melif\u001b[0m \u001b[0misinstance\u001b[0m\u001b[1;33m(\u001b[0m\u001b[0msymbols\u001b[0m\u001b[1;33m,\u001b[0m \u001b[0mDataFrame\u001b[0m\u001b[1;33m)\u001b[0m\u001b[1;33m:\u001b[0m\u001b[1;33m\u001b[0m\u001b[0m\n",
      "\u001b[1;32m/home/pawel/anaconda3/lib/python3.5/site-packages/pandas/io/data.py\u001b[0m in \u001b[0;36m_get_hist_yahoo\u001b[1;34m(sym, start, end, interval, retry_count, pause)\u001b[0m\n\u001b[0;32m    220\u001b[0m            \u001b[1;34m'&g=%s'\u001b[0m \u001b[1;33m%\u001b[0m \u001b[0minterval\u001b[0m \u001b[1;33m+\u001b[0m\u001b[1;33m\u001b[0m\u001b[0m\n\u001b[0;32m    221\u001b[0m            '&ignore=.csv')\n\u001b[1;32m--> 222\u001b[1;33m     \u001b[1;32mreturn\u001b[0m \u001b[0m_retry_read_url\u001b[0m\u001b[1;33m(\u001b[0m\u001b[0murl\u001b[0m\u001b[1;33m,\u001b[0m \u001b[0mretry_count\u001b[0m\u001b[1;33m,\u001b[0m \u001b[0mpause\u001b[0m\u001b[1;33m,\u001b[0m \u001b[1;34m'Yahoo!'\u001b[0m\u001b[1;33m)\u001b[0m\u001b[1;33m\u001b[0m\u001b[0m\n\u001b[0m\u001b[0;32m    223\u001b[0m \u001b[1;33m\u001b[0m\u001b[0m\n\u001b[0;32m    224\u001b[0m \u001b[1;33m\u001b[0m\u001b[0m\n",
      "\u001b[1;32m/home/pawel/anaconda3/lib/python3.5/site-packages/pandas/io/data.py\u001b[0m in \u001b[0;36m_retry_read_url\u001b[1;34m(url, retry_count, pause, name)\u001b[0m\n\u001b[0;32m    197\u001b[0m \u001b[1;33m\u001b[0m\u001b[0m\n\u001b[0;32m    198\u001b[0m     raise IOError(\"after %d tries, %s did not \"\n\u001b[1;32m--> 199\u001b[1;33m                   \"return a 200 for url %r\" % (retry_count, name, url))\n\u001b[0m\u001b[0;32m    200\u001b[0m \u001b[1;33m\u001b[0m\u001b[0m\n\u001b[0;32m    201\u001b[0m \u001b[1;33m\u001b[0m\u001b[0m\n",
      "\u001b[1;31mOSError\u001b[0m: after 3 tries, Yahoo! did not return a 200 for url 'http://ichart.finance.yahoo.com/table.csv?s=BNKR.L&a=0&b=1&c=1985&d=3&e=29&f=2015&g=d&ignore=.csv'"
     ]
    }
   ],
   "source": [
    "with open('./constituents_FTSE250') as f:\n",
    "    lines = f.readlines()\n",
    "    \n",
    "for line in lines:\n",
    "    if len(line.strip())>1:\n",
    "        try:\n",
    "            f=web.DataReader(line.strip(), 'yahoo', start, end)\n",
    "        except:\n",
    "            raise\n",
    "        else:\n",
    "            y.append(f.index.date[0])            \n",
    "            #print f.index.date[0]"
   ]
  },
  {
   "cell_type": "code",
   "execution_count": null,
   "metadata": {
    "collapsed": true
   },
   "outputs": [],
   "source": [
    "py.xlabel('Data wejscia')\n",
    "py.ylabel('liczba spolek')\n",
    "py.title('FTSE250')\n",
    "\n",
    "\n",
    "for i in y:\n",
    "    j=0\n",
    "    for k in y:\n",
    "        if k<=i:\n",
    "            j+=1\n",
    "    x.append(j)\n",
    "\n",
    "\n",
    "py.plot(y,x, 'ro')\n",
    "py.show()\n",
    "#fig.savefig('/home/pawel/Documents/magisterka/Financial_historical_data/constituents250.jpg')\n",
    "py.clf()"
   ]
  },
  {
   "cell_type": "code",
   "execution_count": null,
   "metadata": {
    "collapsed": true
   },
   "outputs": [],
   "source": []
  }
 ],
 "metadata": {
  "kernelspec": {
   "display_name": "Python 3",
   "language": "python",
   "name": "python3"
  },
  "language_info": {
   "codemirror_mode": {
    "name": "ipython",
    "version": 3
   },
   "file_extension": ".py",
   "mimetype": "text/x-python",
   "name": "python",
   "nbconvert_exporter": "python",
   "pygments_lexer": "ipython3",
   "version": "3.5.1"
  }
 },
 "nbformat": 4,
 "nbformat_minor": 0
}
