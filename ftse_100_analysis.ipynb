{
 "cells": [
  {
   "cell_type": "code",
   "execution_count": 22,
   "metadata": {
    "collapsed": false
   },
   "outputs": [],
   "source": [
    "import csv\n",
    "import pickle\n",
    "\n",
    "content = []\n",
    "\n",
    "with open('ftse_100_time_data.csv', newline='') as f:\n",
    "    reader = csv.reader(f)\n",
    "    for row in reader:\n",
    "        content.append(row)\n",
    "\n",
    "\n",
    "data_ftse_100_dict = {}\n",
    "tickers_list = [ticker[:-2] for ticker in content[0][1:]]\n",
    "\n",
    "\n",
    "for row in content[1:]:\n",
    "    data_ftse_100_dict[row[0]] = {}\n",
    "    for i, ticker in enumerate(tickers_list):\n",
    "        data_ftse_100_dict[row[0]][ticker] = row[i]\n",
    "\n",
    "pickle.dump(data_ftse_100_dict, open(\"./data_ftse_100_dict_04032017.p\", \"wb\"))\n"
   ]
  },
  {
   "cell_type": "code",
   "execution_count": 21,
   "metadata": {
    "collapsed": false
   },
   "outputs": [
    {
     "data": {
      "text/plain": [
       "{'AAL': '1990-07-12',\n",
       " 'ABF': '',\n",
       " 'ADM': '363.44',\n",
       " 'ADN': '',\n",
       " 'AGK': '',\n",
       " 'AHT': '',\n",
       " 'ANTO': '197.584',\n",
       " 'ARM': '600.21',\n",
       " 'AV': '',\n",
       " 'AZN': '463.061',\n",
       " 'BA': '',\n",
       " 'BAB': '8592.0',\n",
       " 'BARC': '1.23',\n",
       " 'BATS': '6030.2',\n",
       " 'BDEV': '',\n",
       " 'BG': '157.30100000000002',\n",
       " 'BLND': '42.613',\n",
       " 'BLT': '261.32',\n",
       " 'BNZL': '',\n",
       " 'BP': '89.0',\n",
       " 'BRBY': '328.0',\n",
       " 'BT-A': '',\n",
       " 'CCH': '310.0',\n",
       " 'CCL': '',\n",
       " 'CNA': '',\n",
       " 'CPG': '',\n",
       " 'CPI': '',\n",
       " 'CRH': '172.003',\n",
       " 'DC': '',\n",
       " 'DGE': '',\n",
       " 'DLG': '680.2130000000001',\n",
       " 'EXPN': '',\n",
       " 'EZJ': '',\n",
       " 'FRES': '',\n",
       " 'GFS': '',\n",
       " 'GKN': '',\n",
       " 'GLEN': '1040.4660000000001',\n",
       " 'GSK': '',\n",
       " 'HIK': '3428.0',\n",
       " 'HL': '',\n",
       " 'HMSO': '',\n",
       " 'HSBA': '475.728',\n",
       " 'IAG': '37.907',\n",
       " 'IHG': '',\n",
       " 'III': '',\n",
       " 'IMT': '',\n",
       " 'INTU': '',\n",
       " 'ITRK': '',\n",
       " 'ITV': '',\n",
       " 'JMAT': '',\n",
       " 'KGF': '272.798',\n",
       " 'LAND': '487.98900000000003',\n",
       " 'LGEN': '466.551',\n",
       " 'LLOY': '422.1',\n",
       " 'LSE': '',\n",
       " 'MGGT': '',\n",
       " 'MKS': '59.863',\n",
       " 'MNDI': '190.668',\n",
       " 'MRW': '',\n",
       " 'NG': '185.0',\n",
       " 'NXT': '',\n",
       " 'OML': '49.0',\n",
       " 'PRU': '',\n",
       " 'PSN': '202.56900000000002',\n",
       " 'PSON': '144.602',\n",
       " 'RB': '682.9780000000001',\n",
       " 'RBS': '528.034',\n",
       " 'RDSA': '145.056',\n",
       " 'RDSB': '',\n",
       " 'REL': '',\n",
       " 'RIO': '394.42',\n",
       " 'RMG': '459.314',\n",
       " 'RR': '',\n",
       " 'RRS': '2788501.373',\n",
       " 'RSA': '',\n",
       " 'SAB': '216.4',\n",
       " 'SBRY': '',\n",
       " 'SDR': '246.858',\n",
       " 'SGE': '12.42',\n",
       " 'SHP': '207.986',\n",
       " 'SKY': '',\n",
       " 'SL': '',\n",
       " 'SMIN': '',\n",
       " 'SN': '150.284',\n",
       " 'SPD': '91.565',\n",
       " 'SSE': '',\n",
       " 'STAN': '',\n",
       " 'STJ': '5766.2',\n",
       " 'SVT': '',\n",
       " 'TPK': '165.463',\n",
       " 'TSCO': '160.01',\n",
       " 'TUI': '228.0',\n",
       " 'TW': '',\n",
       " 'ULVR': '268.906',\n",
       " 'UU': '689.998',\n",
       " 'VOD': '300.9',\n",
       " 'WEIR': '209.28599999999997',\n",
       " 'WOS': '1106.858',\n",
       " 'WPP': '134.78799999999998',\n",
       " 'WTB': ''}"
      ]
     },
     "execution_count": 21,
     "metadata": {},
     "output_type": "execute_result"
    }
   ],
   "source": [
    "data_ftse_100_dict['1990-07-12']"
   ]
  },
  {
   "cell_type": "markdown",
   "metadata": {},
   "source": [
    "How to write `add_dates` method\n",
    "http://stackoverflow.com/questions/3240458/how-to-increment-the-day-in-datetime-python"
   ]
  },
  {
   "cell_type": "code",
   "execution_count": null,
   "metadata": {
    "collapsed": true
   },
   "outputs": [],
   "source": [
    "for ticker in tickers_list:\n",
    "    \n",
    "def add_dates(time_from, time_to, dates_dict):\n",
    "    return complete_dates_dict\n",
    "    \n",
    "def find_start_end_date(ticker):\n",
    "    return start, end # dates in datetime format\n",
    "\n",
    "def interpolate(dates_dict, ticker, start_date, end_date):\n",
    "    return dates_dict_interpolated\n",
    "    "
   ]
  }
 ],
 "metadata": {
  "kernelspec": {
   "display_name": "Python 3",
   "language": "python",
   "name": "python3"
  },
  "language_info": {
   "codemirror_mode": {
    "name": "ipython",
    "version": 3
   },
   "file_extension": ".py",
   "mimetype": "text/x-python",
   "name": "python",
   "nbconvert_exporter": "python",
   "pygments_lexer": "ipython3",
   "version": "3.6.0"
  }
 },
 "nbformat": 4,
 "nbformat_minor": 2
}
