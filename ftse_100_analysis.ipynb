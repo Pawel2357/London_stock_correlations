{
 "cells": [
  {
   "cell_type": "code",
   "execution_count": 85,
   "metadata": {
    "collapsed": false,
    "deletable": true,
    "editable": true
   },
   "outputs": [],
   "source": [
    "import csv\n",
    "import pickle\n",
    "from datetime import date, datetime, timedelta\n",
    "import numpy as np\n",
    "\n",
    "# ToDo: move all methods to a separate file and import them\n",
    "\n",
    "def convert_txt_to_dict(filename, path_to_save):\n",
    "    content = []\n",
    "\n",
    "    with open(filename, newline='') as f:\n",
    "        reader = csv.reader(f)\n",
    "        for row in reader:\n",
    "            content.append(row)\n",
    "\n",
    "    data_ftse_100_dict = {}\n",
    "    tickers_list = [ticker[:-2] for ticker in content[0][1:]]\n",
    "\n",
    "    for row in content[1:]:\n",
    "        data_ftse_100_dict[row[0]] = {}\n",
    "        for i, ticker in enumerate(tickers_list):\n",
    "            data_ftse_100_dict[row[0]][ticker] = row[i + 1]\n",
    "\n",
    "    pickle.dump(data_ftse_100_dict, open(path_to_save, \"wb\"))\n",
    "\n",
    "    \n",
    "txt_filename = 'ftse_100_time_data.csv'\n",
    "path_to_save = \"./data_ftse_100_dict_04032017.p\"\n",
    "\n",
    "convert_txt_to_dict(txt_filename, path_to_save)"
   ]
  },
  {
   "cell_type": "code",
   "execution_count": 73,
   "metadata": {
    "collapsed": false,
    "deletable": true,
    "editable": true
   },
   "outputs": [
    {
     "data": {
      "text/plain": [
       "{'AAL': '',\n",
       " 'ABF': '362.56',\n",
       " 'ADM': '',\n",
       " 'ADN': '',\n",
       " 'AGK': '',\n",
       " 'AHT': '197.584',\n",
       " 'ANTO': '600.21',\n",
       " 'ARM': '',\n",
       " 'AV': '461.259',\n",
       " 'AZN': '',\n",
       " 'BA': '8640.0',\n",
       " 'BAB': '1.2690000000000001',\n",
       " 'BARC': '6000.64',\n",
       " 'BATS': '',\n",
       " 'BDEV': '157.30100000000002',\n",
       " 'BG': '42.995',\n",
       " 'BLND': '260.501',\n",
       " 'BLT': '',\n",
       " 'BNZL': '89.0',\n",
       " 'BP': '321.0',\n",
       " 'BRBY': '',\n",
       " 'BT-A': '311.0',\n",
       " 'CCH': '',\n",
       " 'CCL': '',\n",
       " 'CNA': '',\n",
       " 'CPG': '',\n",
       " 'CPI': '172.003',\n",
       " 'CRH': '',\n",
       " 'DC': '',\n",
       " 'DGE': '675.937',\n",
       " 'DLG': '',\n",
       " 'EXPN': '',\n",
       " 'EZJ': '',\n",
       " 'FRES': '',\n",
       " 'GFS': '',\n",
       " 'GKN': '1053.642',\n",
       " 'GLEN': '',\n",
       " 'GSK': '3408.0',\n",
       " 'HIK': '',\n",
       " 'HL': '',\n",
       " 'HMSO': '476.407',\n",
       " 'HSBA': '37.472',\n",
       " 'IAG': '',\n",
       " 'IHG': '',\n",
       " 'III': '',\n",
       " 'IMT': '',\n",
       " 'INTU': '',\n",
       " 'ITRK': '',\n",
       " 'ITV': '',\n",
       " 'JMAT': '271.842',\n",
       " 'KGF': '475.96',\n",
       " 'LAND': '462.10699999999997',\n",
       " 'LGEN': '420.1',\n",
       " 'LLOY': '',\n",
       " 'LSE': '',\n",
       " 'MGGT': '59.141000000000005',\n",
       " 'MKS': '188.635',\n",
       " 'MNDI': '',\n",
       " 'MRW': '185.0',\n",
       " 'NG': '',\n",
       " 'NXT': '49.0',\n",
       " 'OML': '',\n",
       " 'PRU': '205.261',\n",
       " 'PSN': '144.602',\n",
       " 'PSON': '678.571',\n",
       " 'RB': '521.937',\n",
       " 'RBS': '145.056',\n",
       " 'RDSA': '',\n",
       " 'RDSB': '',\n",
       " 'REL': '391.79699999999997',\n",
       " 'RIO': '451.879',\n",
       " 'RMG': '',\n",
       " 'RR': '2838076.5160000003',\n",
       " 'RRS': '',\n",
       " 'RSA': '213.14',\n",
       " 'SAB': '',\n",
       " 'SBRY': '241.769',\n",
       " 'SDR': '12.42',\n",
       " 'SGE': '207.986',\n",
       " 'SHP': '',\n",
       " 'SKY': '',\n",
       " 'SL': '',\n",
       " 'SMIN': '147.704',\n",
       " 'SN': '90.935',\n",
       " 'SPD': '',\n",
       " 'SSE': '',\n",
       " 'STAN': '5881.76',\n",
       " 'STJ': '',\n",
       " 'SVT': '166.62900000000002',\n",
       " 'TPK': '159.222',\n",
       " 'TSCO': '225.99900000000002',\n",
       " 'TUI': '',\n",
       " 'TW': '264.254',\n",
       " 'ULVR': '684.998',\n",
       " 'UU': '300.4',\n",
       " 'VOD': '203.597',\n",
       " 'WEIR': '1099.008',\n",
       " 'WOS': '134.369',\n",
       " 'WPP': '',\n",
       " 'WTB': '420.361'}"
      ]
     },
     "execution_count": 73,
     "metadata": {},
     "output_type": "execute_result"
    }
   ],
   "source": [
    "data_ftse_100_dict['1990-07-11']"
   ]
  },
  {
   "cell_type": "markdown",
   "metadata": {
    "deletable": true,
    "editable": true
   },
   "source": [
    "How to write `add_dates` method\n",
    "http://stackoverflow.com/questions/3240458/how-to-increment-the-day-in-datetime-python"
   ]
  },
  {
   "cell_type": "code",
   "execution_count": 74,
   "metadata": {
    "collapsed": false,
    "deletable": true,
    "editable": true
   },
   "outputs": [],
   "source": [
    "def datetime_to_date(datetime_date):\n",
    "    datetime_date.date().year\n",
    "    str_date = '{}-{}-{}'.format(datetime_date.date().strftime('%Y'), datetime_date.date().strftime('%m'), datetime_date.date().strftime('%d'))\n",
    "    return str_date\n",
    "    \n",
    "def date_to_datetime(date):\n",
    "    return datetime.strptime(date, '%Y-%m-%d')\n",
    "\n",
    "def find_start_end_dates(ticker, dates_dict):\n",
    "    # this method looks when a company started to be in ftse 100. Assume that some dates may not have dictionaries\n",
    "    # with ticker. No ticker in keys.\n",
    "    start = \"\"\n",
    "    end = \"\"\n",
    "    for date, stock_values in dates_dict.items():\n",
    "        if ticker in stock_values.keys():\n",
    "            if stock_values[ticker]:\n",
    "                # check if start is empty\n",
    "                if not start:\n",
    "                    start = date\n",
    "                else:\n",
    "                    end = date\n",
    "    \n",
    "    return start, end # dates in datetime format\n",
    "\n",
    "def get_dates_range(start_date, end_date):\n",
    "    # assume start_date and end_date are in datetime format\n",
    "    dates_range = []\n",
    "    delta = end_date - start_date\n",
    "    date_index = start_date\n",
    "    for i in range(delta.days + 1):\n",
    "        dates_range.append(date_index)\n",
    "        date_index += timedelta(days=1)\n",
    "    return dates_range\n",
    "\n",
    "def add_interpolated_values(dates_range, ticker, dates_dict):\n",
    "    modified_dates_dict = dates_dict\n",
    "    interpolated_value = (modified_dates_dict[datetime_to_date(start_indicator)] + modified_dates_dict[datetime_to_date(end_indicator)]) / 2\n",
    "    for date in dates_range:\n",
    "        # Initialise new date\n",
    "        if datetime_to_date(date) not in modified_dates_dict.keys():\n",
    "            modified_dates_dict[datetime_to_date(date)] = {}\n",
    "        modified_dates_dict[datetime_to_date(date)][ticker] = interpolated_value\n",
    "    # return modified_dates_dict add average values using start_indicator and end_indicator\n",
    "    \n",
    "def add_missing_date(missing_date, dates_dict, ticker):\n",
    "    complete_dates_dict = dates_dict\n",
    "    if missing_date not in dates_dict.keys():\n",
    "        complete_dates_dict[missing_date] = {}\n",
    "        complete_dates_dict[missing_date][ticker] = \"\"\n",
    "    return complete_dates_dict\n",
    "\n",
    "def interpolate(dates_dict, ticker, start_date, end_date):\n",
    "    # assume start_date and end_date are in datetime format\n",
    "    dates_range = get_dates_range(start_date, end_date)\n",
    "    print(len(dates_range))\n",
    "    print(dates_range[-2])\n",
    "    start_indicator = dates_range[0]\n",
    "    end_indicator = dates_range[0]\n",
    "    for date in dates_range[1:]:\n",
    "        dates_dict = add_missing_date(datetime_to_date(date), dates_dict, ticker)\n",
    "        if not dates_dict[datetime_to_date(date)][ticker]:\n",
    "            end_indicator = date\n",
    "        else:\n",
    "            if (start_indicator - end_indicator).days > 1:\n",
    "                dates_dict = add_interpolated_values(dates_range[1:-1], ticker, dates_dict)\n",
    "            else:\n",
    "                start_indicator = end_indicator\n",
    "    return dates_dict"
   ]
  },
  {
   "cell_type": "code",
   "execution_count": 75,
   "metadata": {
    "collapsed": false,
    "deletable": true,
    "editable": true
   },
   "outputs": [
    {
     "name": "stdout",
     "output_type": "stream",
     "text": [
      "2015-04-29 1999-03-08\n",
      "5897\n",
      "2015-04-28 00:00:00\n"
     ]
    }
   ],
   "source": [
    "start, end = find_start_end_dates(\"SAB\", data_ftse_100_dict)\n",
    "print(end, start)\n",
    "data_ftse_100_dict_interp = interpolate(data_ftse_100_dict, ticker, date_to_datetime(start), date_to_datetime(end))"
   ]
  },
  {
   "cell_type": "code",
   "execution_count": 82,
   "metadata": {
    "collapsed": false,
    "deletable": true,
    "editable": true
   },
   "outputs": [
    {
     "name": "stdout",
     "output_type": "stream",
     "text": [
      "72 100\n"
     ]
    }
   ],
   "source": [
    "tickers_list = data_ftse_100_dict_interp['1990-07-11'].keys()\n",
    "date_point = '1999-07-11'\n",
    "valid_tickers = []\n",
    "for ticker in tickers_list:\n",
    "    start, end = find_start_end_dates(ticker, data_ftse_100_dict)\n",
    "    if date_to_datetime(date_point) > date_to_datetime(start):\n",
    "        valid_tickers.append(ticker)\n",
    "\n",
    "print(len(valid_tickers), len(tickers_list))"
   ]
  },
  {
   "cell_type": "code",
   "execution_count": 38,
   "metadata": {
    "collapsed": false,
    "deletable": true,
    "editable": true
   },
   "outputs": [
    {
     "data": {
      "text/plain": [
       "'03'"
      ]
     },
     "execution_count": 38,
     "metadata": {},
     "output_type": "execute_result"
    }
   ],
   "source": []
  },
  {
   "cell_type": "markdown",
   "metadata": {
    "collapsed": true,
    "deletable": true,
    "editable": true
   },
   "source": [
    "## Calculate correlations"
   ]
  },
  {
   "cell_type": "code",
   "execution_count": 83,
   "metadata": {
    "collapsed": true
   },
   "outputs": [],
   "source": [
    "def get_components_distance(time_window, time_start, time_end, ticker_1, ticker_2, dates_dict):\n",
    "    components_distance = {}\n",
    "    dates_range = get_dates_range(time_start, time_end)\n",
    "    \n",
    "    for date in dates_range:\n",
    "        s_vector_1 = get_s_vector(time_window, ticker_1, dates_dict, date)\n",
    "        s_vector_2 = get_s_vector(time_window, ticker_2, dates_dict, date)\n",
    "        components_distance[datetime_to_date(date)] = (np.dot(s_vector_1, s_vector_2) / len(s_vector_1) - np.mean(s_vector_1) * np.mean(s_vector_2)) / \\\n",
    "            np.sqrt((np.mean([x * x for x in s_vector_1]) - np.mean(s_vector_1) * np.mean(s_vector_1)) * \\\n",
    "            (np.mean([x * x for x in s_vector_1]) - np.mean(s_vector_1) * np.mean(s_vector_1)))\n",
    "        \n",
    "    \n",
    "    return components_distance # dict where each key is time and value is distance\n",
    "\n",
    "def get_s_vector(time_window, ticker, dates_dict, initial_time):\n",
    "    return s_vector\n",
    "\n",
    "def get_s(time, ticker, dates_dict):\n",
    "    return s\n",
    "\n"
   ]
  },
  {
   "cell_type": "code",
   "execution_count": 86,
   "metadata": {
    "collapsed": false
   },
   "outputs": [
    {
     "data": {
      "text/plain": [
       "20"
      ]
     },
     "execution_count": 86,
     "metadata": {},
     "output_type": "execute_result"
    }
   ],
   "source": [
    "np.dot([2,3,4], [5,2,1])"
   ]
  },
  {
   "cell_type": "code",
   "execution_count": 89,
   "metadata": {
    "collapsed": false
   },
   "outputs": [
    {
     "data": {
      "text/plain": [
       "[4, 9, 16]"
      ]
     },
     "execution_count": 89,
     "metadata": {},
     "output_type": "execute_result"
    }
   ],
   "source": [
    "[x * x for x in [2,3,4]]"
   ]
  },
  {
   "cell_type": "code",
   "execution_count": null,
   "metadata": {
    "collapsed": true
   },
   "outputs": [],
   "source": []
  }
 ],
 "metadata": {
  "kernelspec": {
   "display_name": "Python 3",
   "language": "python",
   "name": "python3"
  },
  "language_info": {
   "codemirror_mode": {
    "name": "ipython",
    "version": 3
   },
   "file_extension": ".py",
   "mimetype": "text/x-python",
   "name": "python",
   "nbconvert_exporter": "python",
   "pygments_lexer": "ipython3",
   "version": "3.6.0"
  }
 },
 "nbformat": 4,
 "nbformat_minor": 2
}
