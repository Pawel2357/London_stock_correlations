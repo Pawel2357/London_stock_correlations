{
 "cells": [
  {
   "cell_type": "markdown",
   "metadata": {},
   "source": [
    "E1. Analiza dynamiki wybranej giełdy za pomocą  wybranej techniki teorii grafów \n",
    "\n",
    "**Research question: What are correlations between constituents on London stock market?**\n",
    "\n",
    "Celem tego ćwiczenia jest zbadanie dynamiki wybranej giełdy w okresie narastania wybranej bańki giełdowej oraz  jej pęknięcia, z wykorzystaniem teorii grafów. Realizacja ćwiczenia składa się  z następujących etapów:  \n",
    "\n",
    "1.  wybór  giełdy  i  ściągnięcie  odpowiednich  empirycznych  danych  giełdowych  z  wybranej  strony internetowej lub uzyskanie ich bezpośrednio z danej giełdy,  \n",
    "    1. Download FTSE100 historical data from yahoo, transform it into a dataframe and save to a file. \n",
    "    2. Plot number of constituents(time) for FTSE100\n",
    "        1. To do it I should first check the data. Are there any missing values for certain constituents? I can achieve it through finding a start date for each ticker. It can be in a form of a list.\n",
    "    3. Check is the data complete?\n",
    "    4. On y axis check does it contains all days except weekends?\n",
    "    5. For each constituent count how many rows are missing?\n",
    "2.  Calculate correlations matrix for FTSE100\n",
    "    1. Create new Stock_values_dataframe with variables that indicate prices.\n",
    "3.  dobór odpowiedniego modelu sieci oraz algorytmu generującego,  \n",
    "4.  dobór właściwych przedziałów średniowania,  \n",
    "5.  dyskusja  uzyskanych  wyników  a  w tym  zwłaszcza  ewentualnych  strukturalnych  topologicznych) przemian fazowych prowadzących do analizy kryzysu i krachu. \n",
    "\n",
    "### Questions\n",
    "    Should I use log transformation?\n",
    "    How should I calculate <Si> How many days average. (See exercise notes 1.2)\n",
    "    How to calculate distances between companies? How to interpret them?\n",
    "\n",
    "[Exercise materials](https://drive.google.com/open?id=0ByG3ASYoU228cnFHaEZDR0tQcWlaZlNGa2xoUEhNSUJfMDg4)\n",
    "\n",
    "### Notes(Exercise materials)\n",
    "    1.1 Diferences a couple orders of magnitude\n",
    "    1.2 <Si> - average over for example 50 days.\n",
    "\n",
    "### Additional notes\n",
    "Industrial sectors and constituents\n",
    "\n",
    "http://www.londonstockexchange.com/exchange/prices-and-markets/stocks/indices/constituents-indices.html?index=MCX&industrySector=&page=2\n",
    "\n",
    "\n",
    "Historical data for constituents\n",
    "\n",
    "http://finance.yahoo.com/q?s=CWC.L\n",
    "\n",
    "\n",
    "all constituents with tickers\n",
    "\n",
    "http://finance.yahoo.com/q/cp?s=%5EFTSE+Components\n"
   ]
  },
  {
   "cell_type": "code",
   "execution_count": 1,
   "metadata": {
    "collapsed": true
   },
   "outputs": [],
   "source": [
    "import urllib,time,datetime\n",
    "# import pandas.io.data as web\n",
    "import pandas as pd\n",
    "import numpy as np\n",
    "import pylab as py\n",
    "import datetime as dt\n",
    "\n",
    "%matplotlib inline"
   ]
  },
  {
   "cell_type": "markdown",
   "metadata": {
    "collapsed": true
   },
   "source": [
    "### 1. A. Below I download FTSE100 historical data from yahoo and save it to data_FTSE100.txt"
   ]
  },
  {
   "cell_type": "code",
   "execution_count": 2,
   "metadata": {
    "collapsed": true
   },
   "outputs": [],
   "source": [
    "start = datetime.datetime(1985, 1, 1)\n",
    "end = datetime.datetime(2015, 4, 29)\n",
    "\n",
    "constituents_filaname = './constituents_FTSE100'\n",
    "save_filaname = \"./data_FTSE100.txt\"\n",
    "\n",
    "def download_historical_ftse_100(start, end, constituents_filaname, save_filaname):\n",
    "    \n",
    "    with open(constituents_filaname) as f:\n",
    "        lines = f.readlines()\n",
    "    \n",
    "    f=web.DataReader(lines[0].strip(), 'yahoo', start, end)\n",
    "    \n",
    "    lines = lines[0:100]\n",
    "    y=[]\n",
    "    \n",
    "    for line in lines:\n",
    "        if len(line.strip())>1:\n",
    "            try:\n",
    "                f=web.DataReader(line.strip(), 'yahoo', start, end)\n",
    "            except:\n",
    "                raise\n",
    "            else:\n",
    "                y.append(f['Open'])             \n",
    "    \n",
    "    Stock_values_dataframe = pd.concat(y, axis=1)\n",
    "    Stock_values_dataframe.columns = [line.replace(\"\\n\", \"\") for line in lines]\n",
    "    Stock_values_dataframe.to_csv(save_filaname)"
   ]
  },
  {
   "cell_type": "markdown",
   "metadata": {},
   "source": [
    "## Note\n",
    "    In 1. A. I downloaded data for FTSE100 and saved it to a file. Below read data from the file. "
   ]
  },
  {
   "cell_type": "code",
   "execution_count": 3,
   "metadata": {
    "scrolled": true
   },
   "outputs": [
    {
     "name": "stdout",
     "output_type": "stream",
     "text": [
      "         Date  AAL.L  ABF.L  ADM.L  ADN.L  AGK.L  AHT.L  ANTO.L  ARM.L  AV.L  \\\n",
      "0  1988-05-03    NaN    NaN    NaN    NaN    NaN    NaN     NaN    NaN   NaN   \n",
      "1  1988-05-04    NaN    NaN    NaN    NaN    NaN    NaN     NaN    NaN   NaN   \n",
      "2  1988-05-05    NaN    NaN    NaN    NaN    NaN    NaN     NaN    NaN   NaN   \n",
      "3  1988-05-06    NaN    NaN    NaN    NaN    NaN    NaN     NaN    NaN   NaN   \n",
      "4  1988-05-09    NaN    NaN    NaN    NaN    NaN    NaN     NaN    NaN   NaN   \n",
      "5  1988-05-10    NaN    NaN    NaN    NaN    NaN    NaN     NaN    NaN   NaN   \n",
      "6  1988-05-11    NaN    NaN    NaN    NaN    NaN    NaN     NaN    NaN   NaN   \n",
      "7  1988-05-12    NaN    NaN    NaN    NaN    NaN    NaN     NaN    NaN   NaN   \n",
      "8  1988-05-13    NaN    NaN    NaN    NaN    NaN    NaN     NaN    NaN   NaN   \n",
      "9  1988-05-16    NaN    NaN    NaN    NaN    NaN    NaN     NaN    NaN   NaN   \n",
      "\n",
      "   ...    TSCO.L  TUI.L  TW.L  ULVR.L  UU.L  VOD.L  WEIR.L  WOS.L  WPP.L  \\\n",
      "0  ...       NaN    NaN   NaN     NaN   NaN    NaN     NaN    NaN    NaN   \n",
      "1  ...       NaN    NaN   NaN     NaN   NaN    NaN     NaN    NaN    NaN   \n",
      "2  ...       NaN    NaN   NaN     NaN   NaN    NaN     NaN    NaN    NaN   \n",
      "3  ...       NaN    NaN   NaN     NaN   NaN    NaN     NaN    NaN    NaN   \n",
      "4  ...       NaN    NaN   NaN     NaN   NaN    NaN     NaN    NaN    NaN   \n",
      "5  ...       NaN    NaN   NaN     NaN   NaN    NaN     NaN    NaN    NaN   \n",
      "6  ...       NaN    NaN   NaN     NaN   NaN    NaN     NaN    NaN    NaN   \n",
      "7  ...       NaN    NaN   NaN     NaN   NaN    NaN     NaN    NaN    NaN   \n",
      "8  ...       NaN    NaN   NaN     NaN   NaN    NaN     NaN    NaN    NaN   \n",
      "9  ...       NaN    NaN   NaN     NaN   NaN    NaN     NaN    NaN    NaN   \n",
      "\n",
      "   WTB.L  \n",
      "0    NaN  \n",
      "1    NaN  \n",
      "2    NaN  \n",
      "3    NaN  \n",
      "4    NaN  \n",
      "5    NaN  \n",
      "6    NaN  \n",
      "7    NaN  \n",
      "8    NaN  \n",
      "9    NaN  \n",
      "\n",
      "[10 rows x 101 columns]\n"
     ]
    }
   ],
   "source": [
    "Stock_values_dataframe = pd.read_csv( \"./ftse_100_time_data.csv\" )\n",
    "\n",
    "print(Stock_values_dataframe[:10])"
   ]
  },
  {
   "cell_type": "markdown",
   "metadata": {},
   "source": [
    "### 1. B. Below I calculate number of constituents( time )"
   ]
  },
  {
   "cell_type": "code",
   "execution_count": 4,
   "metadata": {},
   "outputs": [
    {
     "data": {
      "image/png": "[encoded data removed]",
      "text/plain": [
       "<matplotlib.figure.Figure at 0x7f2258e77e80>"
      ]
     },
     "metadata": {},
     "output_type": "display_data"
    }
   ],
   "source": [
    "def get_constituents_start_dates(Stock_values_dataframe):\n",
    "    constituents_tickers = Stock_values_dataframe.columns[1:]\n",
    "    \n",
    "    start_dates_constituents_list = []\n",
    "    \n",
    "    for constituent_ticker in constituents_tickers:\n",
    "        for date_index in range(len(Stock_values_dataframe)):\n",
    "            if Stock_values_dataframe.loc[date_index, constituent_ticker] == Stock_values_dataframe.loc[ \n",
    "                date_index, constituent_ticker]:\n",
    "                start_dates_constituents_list.append(Stock_values_dataframe['Date'][date_index])\n",
    "                break\n",
    "                                      \n",
    "    return start_dates_constituents_list \n",
    "\n",
    "def plot_number_of_constituents(Stock_values_dataframe, start_dates_constituents_list):\n",
    "    number_of_constituents_list = []\n",
    "        \n",
    "    for date_index in range(len(Stock_values_dataframe)):\n",
    "        number_of_constituents = 0\n",
    "        for start_date in start_dates_constituents_list:\n",
    "            if Stock_values_dataframe['Date'][date_index] > start_date:\n",
    "                number_of_constituents += 1\n",
    "        number_of_constituents_list.append(number_of_constituents)\n",
    "        \n",
    "    all_dates = [dt.datetime.strptime(date, '%Y-%m-%d') for date in Stock_values_dataframe['Date'].tolist()]\n",
    "    \n",
    "    py.xlabel('Date')\n",
    "    py.ylabel('Number of constituents')\n",
    "    py.title('FTSE100')\n",
    "    \n",
    "    py.plot(all_dates, number_of_constituents_list, 'ro')\n",
    "    py.show()\n",
    "    #fig.savefig('/home/pawel/Documents/magisterka/Financial_historical_data/constituents100.jpg')\n",
    "    #py.clf()\n",
    "    \n",
    "start_dates_constituents_list = get_constituents_start_dates(Stock_values_dataframe)\n",
    "plot_number_of_constituents(Stock_values_dataframe, start_dates_constituents_list)"
   ]
  },
  {
   "cell_type": "markdown",
   "metadata": {},
   "source": [
    "### Notes:\n",
    "- Number of constituents at the beginning is zero because it starts before stock market was opened."
   ]
  },
  {
   "cell_type": "markdown",
   "metadata": {},
   "source": [
    "### 1.C. Check completeness of the data. "
   ]
  },
  {
   "cell_type": "code",
   "execution_count": 6,
   "metadata": {},
   "outputs": [
    {
     "data": {
      "image/png": "[encoded data removed]",
      "text/plain": [
       "<matplotlib.figure.Figure at 0x7f2256cbe278>"
      ]
     },
     "metadata": {},
     "output_type": "display_data"
    }
   ],
   "source": [
    "def check_data_completness(Stock_values_dataframe, constituents_tickers):\n",
    "    fig = py.figure()\n",
    "    \n",
    "    already_started = False\n",
    "    \n",
    "    x = []\n",
    "    y = []\n",
    "    \n",
    "    for constituent_number in range(len(constituents_tickers)):\n",
    "        for date_index in range(len(Stock_values_dataframe)):\n",
    "            if (not already_started) and (Stock_values_dataframe.loc[date_index, \n",
    "                                                                        constituents_tickers[ constituent_number]] == \n",
    "                    Stock_values_dataframe.loc[date_index, constituents_tickers[constituent_number]]):\n",
    "                already_started = True\n",
    "                \n",
    "            if already_started: \n",
    "                if not (Stock_values_dataframe.loc[date_index, constituents_tickers[constituent_number]] == \n",
    "                    Stock_values_dataframe.loc[date_index, constituents_tickers[constituent_number]]):\n",
    "                    #print( \"missing value\" )\n",
    "                    x.append(date_index)\n",
    "                    y.append(constituent_number)\n",
    "                    \n",
    "    py.scatter(x, y, s = 3)\n",
    "    #fig.savefig('~/Dokumenty/education/studia_courses/laboratory_II_degree_physics/missing_data.jpg')\n",
    "    #py.clf()\n",
    "    py.xlabel('Date index')\n",
    "    py.ylabel('Company number')\n",
    "    py.show()\n",
    "    \n",
    "constituents_tickers = Stock_values_dataframe.columns[1:]\n",
    "            \n",
    "check_data_completness(Stock_values_dataframe, constituents_tickers)"
   ]
  },
  {
   "cell_type": "markdown",
   "metadata": {},
   "source": [
    "### Idea\n",
    "    To merge above I can use:\n",
    "    result = df1.append(df4)\n",
    "\n",
    "[How to merge idea here](http://pandas.pydata.org/pandas-docs/stable/merging.html)\n",
    "\n",
    "    New idea: I can go through every row and compare dates in Stock_values_dataframe and dates_dataframe. If there is na missing data than I can add new row.\n",
    "\n",
    "### Note\n",
    "    Dates in Date column in Stock_values_dataframe and dates_dataframe are different."
   ]
  }
 ],
 "metadata": {
  "kernelspec": {
   "display_name": "Python 3",
   "language": "python",
   "name": "python3"
  },
  "language_info": {
   "codemirror_mode": {
    "name": "ipython",
    "version": 3
   },
   "file_extension": ".py",
   "mimetype": "text/x-python",
   "name": "python",
   "nbconvert_exporter": "python",
   "pygments_lexer": "ipython3",
   "version": "3.6.1"
  }
 },
 "nbformat": 4,
 "nbformat_minor": 1
}
